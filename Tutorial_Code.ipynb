{
 "cells": [
  {
   "cell_type": "code",
   "execution_count": 10,
   "metadata": {},
   "outputs": [],
   "source": [
    "import glob, os\n",
    "import pandas as pd"
   ]
  },
  {
   "cell_type": "code",
   "execution_count": 11,
   "metadata": {},
   "outputs": [
    {
     "data": {
      "text/plain": [
       "[]"
      ]
     },
     "execution_count": 11,
     "metadata": {},
     "output_type": "execute_result"
    }
   ],
   "source": [
    "target_path= \"./clean_data/2016/Break*\"\n",
    "\n",
    "FILENAMES = glob.glob(target_path, recursive = True)\n",
    "FILENAMES[0:7]"
   ]
  },
  {
   "cell_type": "code",
   "execution_count": 12,
   "metadata": {},
   "outputs": [],
   "source": [
    "def rename(filename):\n",
    "    components = filename.split(\" \") #splits on the space\n",
    "    os.rename(filename, \"./clean_data/2016/Week_{}_Feedback_-_{}\".format(components[3], components[6]))\n"
   ]
  },
  {
   "cell_type": "code",
   "execution_count": 13,
   "metadata": {},
   "outputs": [],
   "source": [
    "# # Run Loop on all filenames in the folder. \n",
    "for file in FILENAMES:\n",
    "    rename(file)"
   ]
  },
  {
   "cell_type": "code",
   "execution_count": 14,
   "metadata": {},
   "outputs": [
    {
     "data": {
      "text/plain": [
       "['./clean_data/2016/Week_1_Feedback_-_NY.csv',\n",
       " './clean_data/2016/Week_2_Feedback_-_SV.csv',\n",
       " './clean_data/2016/Week_3_Feedback_-_SG.csv',\n",
       " './clean_data/2016/Week_3_Feedback_-_SF.csv',\n",
       " './clean_data/2016/Week_6_Feedback_-_SG.csv',\n",
       " './clean_data/2016/Week_7_Feedback_-_SV.csv',\n",
       " './clean_data/2016/Week_4_Feedback_-_NY.csv']"
      ]
     },
     "execution_count": 14,
     "metadata": {},
     "output_type": "execute_result"
    }
   ],
   "source": [
    "# Grab new filenames with GLOB \n",
    "# Note that we need a new filepath after preforming the loop\n",
    "target_path= \"./clean_data/2016/Week*\"\n",
    "\n",
    "\n",
    "FILENAMES = glob.glob(target_path, recursive = True)\n",
    "# Return first 8 entries in FILENAMES LIST\n",
    "FILENAMES[0:7]"
   ]
  },
  {
   "cell_type": "code",
   "execution_count": 15,
   "metadata": {},
   "outputs": [
    {
     "data": {
      "text/plain": [
       "39"
      ]
     },
     "execution_count": 15,
     "metadata": {},
     "output_type": "execute_result"
    }
   ],
   "source": [
    "# How many files have the fist row as unamed?\n",
    "len(FILENAMES)"
   ]
  },
  {
   "cell_type": "code",
   "execution_count": 16,
   "metadata": {
    "scrolled": true
   },
   "outputs": [
    {
     "data": {
      "text/html": [
       "<div>\n",
       "<style scoped>\n",
       "    .dataframe tbody tr th:only-of-type {\n",
       "        vertical-align: middle;\n",
       "    }\n",
       "\n",
       "    .dataframe tbody tr th {\n",
       "        vertical-align: top;\n",
       "    }\n",
       "\n",
       "    .dataframe thead th {\n",
       "        text-align: right;\n",
       "    }\n",
       "</style>\n",
       "<table border=\"1\" class=\"dataframe\">\n",
       "  <thead>\n",
       "    <tr style=\"text-align: right;\">\n",
       "      <th></th>\n",
       "      <th>,no_name,merit badge,Timestamp,rateing,pace,week_num,location</th>\n",
       "    </tr>\n",
       "  </thead>\n",
       "  <tbody>\n",
       "    <tr>\n",
       "      <th>0</th>\n",
       "      <td>0,0,astronomy,6/24/2016 7:03:34,3,5,1,NY</td>\n",
       "    </tr>\n",
       "    <tr>\n",
       "      <th>1</th>\n",
       "      <td>1,1,astronomy,6/24/2016 7:10:22,3,3,1,NY</td>\n",
       "    </tr>\n",
       "    <tr>\n",
       "      <th>2</th>\n",
       "      <td>2,2,rowing,6/24/2016 7:03:41,3,3,1,NY</td>\n",
       "    </tr>\n",
       "    <tr>\n",
       "      <th>3</th>\n",
       "      <td>3,3,rowing,6/24/2016 7:04:59,4,3,1,NY</td>\n",
       "    </tr>\n",
       "    <tr>\n",
       "      <th>4</th>\n",
       "      <td>4,4,rowing,6/24/2016 7:07:02,4,4,1,NY</td>\n",
       "    </tr>\n",
       "  </tbody>\n",
       "</table>\n",
       "</div>"
      ],
      "text/plain": [
       "  ,no_name,merit badge,Timestamp,rateing,pace,week_num,location\n",
       "0           0,0,astronomy,6/24/2016 7:03:34,3,5,1,NY           \n",
       "1           1,1,astronomy,6/24/2016 7:10:22,3,3,1,NY           \n",
       "2              2,2,rowing,6/24/2016 7:03:41,3,3,1,NY           \n",
       "3              3,3,rowing,6/24/2016 7:04:59,4,3,1,NY           \n",
       "4              4,4,rowing,6/24/2016 7:07:02,4,4,1,NY           "
      ]
     },
     "execution_count": 16,
     "metadata": {},
     "output_type": "execute_result"
    }
   ],
   "source": [
    "DF1 = pd.read_csv(FILENAMES[0],  sep='\\t')\n",
    "DF1.head()"
   ]
  },
  {
   "cell_type": "markdown",
   "metadata": {},
   "source": [
    "# Find unique headers"
   ]
  },
  {
   "cell_type": "code",
   "execution_count": 17,
   "metadata": {},
   "outputs": [],
   "source": [
    "# Create list\n",
    "headers=[]\n",
    "def find_headers(filename):\n",
    "    dataframe= pd.read_csv(filename, sep='\\t')\n",
    "    listA = list(dataframe)\n",
    "    for value in listA:\n",
    "            headers.append(value)       \n",
    "    \n",
    "def find_unique(list, new_list):\n",
    "    for x in list:\n",
    "        if x not in new_list:\n",
    "            new_list.append(x)"
   ]
  },
  {
   "cell_type": "code",
   "execution_count": 18,
   "metadata": {},
   "outputs": [
    {
     "data": {
      "text/plain": [
       "'Unnamed: 0Unnamed: 0.1'"
      ]
     },
     "execution_count": 18,
     "metadata": {},
     "output_type": "execute_result"
    }
   ],
   "source": [
    "'Unnamed: 0' 'Unnamed: 0.1'"
   ]
  },
  {
   "cell_type": "code",
   "execution_count": 19,
   "metadata": {},
   "outputs": [
    {
     "data": {
      "text/plain": [
       "[',no_name,merit badge,Timestamp,rateing,pace,week_num,location',\n",
       " ',no_name,Timestamp,merit badge,rateing,pace,week_num,location',\n",
       " ',no_name,Timestamp,rateing,pace,week_num,location',\n",
       " ',no_name,no_name,merit badge,rateing,pace,week_num,location',\n",
       " ',no_name,merit badge,rateing,pace,week_num,location']"
      ]
     },
     "execution_count": 19,
     "metadata": {},
     "output_type": "execute_result"
    }
   ],
   "source": [
    "# Run find headers through a loop with all files\n",
    "for file in FILENAMES:\n",
    "    find_headers(file)\n",
    "\n",
    "unique_headers = []\n",
    "find_unique(headers, unique_headers)\n",
    "    # apply unique to that list.\n",
    "unique_headers\n",
    "#display u_headers\n"
   ]
  },
  {
   "cell_type": "code",
   "execution_count": 20,
   "metadata": {},
   "outputs": [],
   "source": [
    "head_map = {\n",
    "    'Unnamed: 0': 'no_name',\n",
    "    'What Marrit Badge?':'merit badge',\n",
    "    'How would you rate your satisfaction with the Break Camp this week?:':'rateing',\n",
    "    'How would you rate your satisfaction with the Break Camp this week?':'rateing',\n",
    "    'How well is the program paced?': \"pace\",\n",
    "    'Timestamp': \"Timestamp\",\n",
    "    'How well are the tutorials paced?':\"pace\",\n",
    "    'Unnamed: 0.1':'no_name'\n",
    "}\n"
   ]
  },
  {
   "cell_type": "code",
   "execution_count": 21,
   "metadata": {},
   "outputs": [
    {
     "data": {
      "text/plain": [
       "{'Unnamed: 0': 'no_name',\n",
       " 'What Marrit Badge?': 'merit badge',\n",
       " 'How would you rate your satisfaction with the Break Camp this week?:': 'rateing',\n",
       " 'How would you rate your satisfaction with the Break Camp this week?': 'rateing',\n",
       " 'How well is the program paced?': 'pace',\n",
       " 'Timestamp': 'Timestamp',\n",
       " 'How well are the tutorials paced?': 'pace',\n",
       " 'Unnamed: 0.1': 'no_name'}"
      ]
     },
     "execution_count": 21,
     "metadata": {},
     "output_type": "execute_result"
    }
   ],
   "source": [
    "head_map"
   ]
  },
  {
   "cell_type": "code",
   "execution_count": 22,
   "metadata": {},
   "outputs": [],
   "source": [
    "badges = []\n",
    "\n",
    "def all_badges(filename):\n",
    "    track_n = pd.read_csv(filename, sep='\\t')\n",
    "    try:\n",
    "        badges.append(track_n['What Marrit Badge?'].values)\n",
    "    except:\n",
    "        pass\n",
    "    \n",
    "def sublist_extract(list_of_list, new_list):\n",
    "    for sublist in list_of_list:\n",
    "        for item in sublist:\n",
    "            new_list.append(item)  "
   ]
  },
  {
   "cell_type": "code",
   "execution_count": 23,
   "metadata": {},
   "outputs": [
    {
     "data": {
      "text/plain": [
       "['./clean_data/2016/Week_1_Feedback_-_NY.csv',\n",
       " './clean_data/2016/Week_2_Feedback_-_SV.csv',\n",
       " './clean_data/2016/Week_3_Feedback_-_SG.csv',\n",
       " './clean_data/2016/Week_3_Feedback_-_SF.csv',\n",
       " './clean_data/2016/Week_6_Feedback_-_SG.csv']"
      ]
     },
     "execution_count": 23,
     "metadata": {},
     "output_type": "execute_result"
    }
   ],
   "source": [
    "FILENAMES[0:5]"
   ]
  },
  {
   "cell_type": "code",
   "execution_count": 24,
   "metadata": {},
   "outputs": [
    {
     "data": {
      "text/plain": [
       "[]"
      ]
     },
     "execution_count": 24,
     "metadata": {},
     "output_type": "execute_result"
    }
   ],
   "source": [
    "for file in FILENAMES:\n",
    "    all_badges(file)\n",
    "\n",
    "flat_badges = []\n",
    "unique_badges = []\n",
    "sublist_extract(badges,flat_badges)\n",
    "flat_badges \n",
    "\n",
    "find_unique(flat_badges, unique_badges)\n",
    "# unique_badges\n",
    "unique_badges"
   ]
  },
  {
   "cell_type": "code",
   "execution_count": 25,
   "metadata": {},
   "outputs": [],
   "source": [
    "badge_map = {\n",
    "    'Rowing': 'rowing', \n",
    "    'Astrnomy':'astronomy', \n",
    "    'Intro Rowing': 'rowing', \n",
    "    'Computer Programing':'computer programing', \n",
    "    'Average:':'Average:'\n",
    "}"
   ]
  },
  {
   "cell_type": "code",
   "execution_count": 26,
   "metadata": {},
   "outputs": [],
   "source": [
    "\n",
    "def scrubba_dub_dubb(filename):\n",
    "    # Open a file as a data frame (.pd.read_csv())\n",
    "    DF = pd.read_csv(filename, sep='\\t')\n",
    "    \n",
    "#   Rename the headers. (.rename()))\n",
    "    DF.rename(columns=head_map, inplace=True)\n",
    "    \n",
    "#   Standardize the Badge columns(ex. change \"games\" to \"sports\") (.map())\n",
    "    try:\n",
    "        DF['merit badge']= DF['merit badge'].map(badge_map)\n",
    "    except:\n",
    "        filename=filename\n",
    "    # Take the week and location from the filename and apply it to each instance in new fields.\n",
    "    fileparts = filename.split(\"_\")\n",
    "    DF[\"week_num\"] = fileparts[2]\n",
    "    DF[\"location\"] = fileparts[5].split(\".\")[0]\n",
    "    \n",
    "    # save to a .csv file overwrites existing file\n",
    "    DF.to_csv(filename)\n"
   ]
  },
  {
   "cell_type": "code",
   "execution_count": 27,
   "metadata": {},
   "outputs": [],
   "source": [
    "# for file in FILENAMES:\n",
    "#     scrubba_dub_dubb(file)"
   ]
  },
  {
   "cell_type": "code",
   "execution_count": 28,
   "metadata": {},
   "outputs": [
    {
     "data": {
      "text/plain": [
       "39"
      ]
     },
     "execution_count": 28,
     "metadata": {},
     "output_type": "execute_result"
    }
   ],
   "source": [
    "len(FILENAMES)"
   ]
  },
  {
   "cell_type": "code",
   "execution_count": null,
   "metadata": {},
   "outputs": [],
   "source": []
  },
  {
   "cell_type": "code",
   "execution_count": 29,
   "metadata": {},
   "outputs": [],
   "source": [
    "list_of_dfs = list()\n",
    "for x in range(1, (len(FILENAMES)-1)):\n",
    "    apendee = pd.read_csv(FILENAMES[x])\n",
    "    list_of_dfs.append(apendee)"
   ]
  },
  {
   "cell_type": "code",
   "execution_count": 30,
   "metadata": {},
   "outputs": [],
   "source": [
    "big_fat_DF= pd.concat(list_of_dfs, sort=True)"
   ]
  },
  {
   "cell_type": "code",
   "execution_count": 31,
   "metadata": {
    "scrolled": true
   },
   "outputs": [
    {
     "data": {
      "text/html": [
       "<div>\n",
       "<style scoped>\n",
       "    .dataframe tbody tr th:only-of-type {\n",
       "        vertical-align: middle;\n",
       "    }\n",
       "\n",
       "    .dataframe tbody tr th {\n",
       "        vertical-align: top;\n",
       "    }\n",
       "\n",
       "    .dataframe thead th {\n",
       "        text-align: right;\n",
       "    }\n",
       "</style>\n",
       "<table border=\"1\" class=\"dataframe\">\n",
       "  <thead>\n",
       "    <tr style=\"text-align: right;\">\n",
       "      <th></th>\n",
       "      <th>Timestamp</th>\n",
       "      <th>Unnamed: 0</th>\n",
       "      <th>location</th>\n",
       "      <th>merit badge</th>\n",
       "      <th>no_name</th>\n",
       "      <th>no_name.1</th>\n",
       "      <th>pace</th>\n",
       "      <th>rateing</th>\n",
       "      <th>week_num</th>\n",
       "    </tr>\n",
       "  </thead>\n",
       "  <tbody>\n",
       "    <tr>\n",
       "      <th>0</th>\n",
       "      <td>7/1/2016 13:27:56</td>\n",
       "      <td>0</td>\n",
       "      <td>SV</td>\n",
       "      <td>rowing</td>\n",
       "      <td>0</td>\n",
       "      <td>NaN</td>\n",
       "      <td>4</td>\n",
       "      <td>3</td>\n",
       "      <td>2</td>\n",
       "    </tr>\n",
       "    <tr>\n",
       "      <th>1</th>\n",
       "      <td>7/1/2016 13:29:33</td>\n",
       "      <td>1</td>\n",
       "      <td>SV</td>\n",
       "      <td>rowing</td>\n",
       "      <td>1</td>\n",
       "      <td>NaN</td>\n",
       "      <td>5</td>\n",
       "      <td>3</td>\n",
       "      <td>2</td>\n",
       "    </tr>\n",
       "    <tr>\n",
       "      <th>2</th>\n",
       "      <td>7/1/2016 13:29:43</td>\n",
       "      <td>2</td>\n",
       "      <td>SV</td>\n",
       "      <td>rowing</td>\n",
       "      <td>2</td>\n",
       "      <td>NaN</td>\n",
       "      <td>3</td>\n",
       "      <td>3</td>\n",
       "      <td>2</td>\n",
       "    </tr>\n",
       "    <tr>\n",
       "      <th>3</th>\n",
       "      <td>7/1/2016 13:30:28</td>\n",
       "      <td>3</td>\n",
       "      <td>SV</td>\n",
       "      <td>rowing</td>\n",
       "      <td>3</td>\n",
       "      <td>NaN</td>\n",
       "      <td>4</td>\n",
       "      <td>3</td>\n",
       "      <td>2</td>\n",
       "    </tr>\n",
       "    <tr>\n",
       "      <th>4</th>\n",
       "      <td>7/1/2016 13:34:11</td>\n",
       "      <td>4</td>\n",
       "      <td>SV</td>\n",
       "      <td>rowing</td>\n",
       "      <td>4</td>\n",
       "      <td>NaN</td>\n",
       "      <td>3</td>\n",
       "      <td>3</td>\n",
       "      <td>2</td>\n",
       "    </tr>\n",
       "    <tr>\n",
       "      <th>5</th>\n",
       "      <td>7/1/2016 13:35:20</td>\n",
       "      <td>5</td>\n",
       "      <td>SV</td>\n",
       "      <td>rowing</td>\n",
       "      <td>5</td>\n",
       "      <td>NaN</td>\n",
       "      <td>3</td>\n",
       "      <td>3</td>\n",
       "      <td>2</td>\n",
       "    </tr>\n",
       "    <tr>\n",
       "      <th>6</th>\n",
       "      <td>7/1/2016 16:35:14</td>\n",
       "      <td>6</td>\n",
       "      <td>SV</td>\n",
       "      <td>rowing</td>\n",
       "      <td>6</td>\n",
       "      <td>NaN</td>\n",
       "      <td>3</td>\n",
       "      <td>3</td>\n",
       "      <td>2</td>\n",
       "    </tr>\n",
       "    <tr>\n",
       "      <th>7</th>\n",
       "      <td>7/1/2016 17:01:13</td>\n",
       "      <td>7</td>\n",
       "      <td>SV</td>\n",
       "      <td>rowing</td>\n",
       "      <td>7</td>\n",
       "      <td>NaN</td>\n",
       "      <td>4</td>\n",
       "      <td>3</td>\n",
       "      <td>2</td>\n",
       "    </tr>\n",
       "    <tr>\n",
       "      <th>8</th>\n",
       "      <td>7/2/2016 9:50:36</td>\n",
       "      <td>8</td>\n",
       "      <td>SV</td>\n",
       "      <td>rowing</td>\n",
       "      <td>8</td>\n",
       "      <td>NaN</td>\n",
       "      <td>3</td>\n",
       "      <td>3</td>\n",
       "      <td>2</td>\n",
       "    </tr>\n",
       "    <tr>\n",
       "      <th>9</th>\n",
       "      <td>7/1/2016 10:36:57</td>\n",
       "      <td>9</td>\n",
       "      <td>SV</td>\n",
       "      <td>astronomy</td>\n",
       "      <td>9</td>\n",
       "      <td>NaN</td>\n",
       "      <td>3</td>\n",
       "      <td>3</td>\n",
       "      <td>2</td>\n",
       "    </tr>\n",
       "    <tr>\n",
       "      <th>10</th>\n",
       "      <td>7/1/2016 10:41:44</td>\n",
       "      <td>10</td>\n",
       "      <td>SV</td>\n",
       "      <td>astronomy</td>\n",
       "      <td>10</td>\n",
       "      <td>NaN</td>\n",
       "      <td>5</td>\n",
       "      <td>3</td>\n",
       "      <td>2</td>\n",
       "    </tr>\n",
       "    <tr>\n",
       "      <th>11</th>\n",
       "      <td>7/1/2016 10:47:58</td>\n",
       "      <td>11</td>\n",
       "      <td>SV</td>\n",
       "      <td>astronomy</td>\n",
       "      <td>11</td>\n",
       "      <td>NaN</td>\n",
       "      <td>3</td>\n",
       "      <td>3</td>\n",
       "      <td>2</td>\n",
       "    </tr>\n",
       "    <tr>\n",
       "      <th>12</th>\n",
       "      <td>7/1/2016 10:56:51</td>\n",
       "      <td>12</td>\n",
       "      <td>SV</td>\n",
       "      <td>astronomy</td>\n",
       "      <td>12</td>\n",
       "      <td>NaN</td>\n",
       "      <td>3</td>\n",
       "      <td>3</td>\n",
       "      <td>2</td>\n",
       "    </tr>\n",
       "    <tr>\n",
       "      <th>13</th>\n",
       "      <td>7/4/2016 23:02:16</td>\n",
       "      <td>13</td>\n",
       "      <td>SV</td>\n",
       "      <td>rowing</td>\n",
       "      <td>13</td>\n",
       "      <td>NaN</td>\n",
       "      <td>4</td>\n",
       "      <td>3</td>\n",
       "      <td>2</td>\n",
       "    </tr>\n",
       "    <tr>\n",
       "      <th>14</th>\n",
       "      <td>7/1/2016 13:27:10</td>\n",
       "      <td>14</td>\n",
       "      <td>SV</td>\n",
       "      <td>rowing</td>\n",
       "      <td>14</td>\n",
       "      <td>NaN</td>\n",
       "      <td>3</td>\n",
       "      <td>4</td>\n",
       "      <td>2</td>\n",
       "    </tr>\n",
       "    <tr>\n",
       "      <th>15</th>\n",
       "      <td>7/1/2016 13:28:59</td>\n",
       "      <td>15</td>\n",
       "      <td>SV</td>\n",
       "      <td>rowing</td>\n",
       "      <td>15</td>\n",
       "      <td>NaN</td>\n",
       "      <td>3</td>\n",
       "      <td>4</td>\n",
       "      <td>2</td>\n",
       "    </tr>\n",
       "    <tr>\n",
       "      <th>16</th>\n",
       "      <td>7/1/2016 13:29:07</td>\n",
       "      <td>16</td>\n",
       "      <td>SV</td>\n",
       "      <td>rowing</td>\n",
       "      <td>16</td>\n",
       "      <td>NaN</td>\n",
       "      <td>3</td>\n",
       "      <td>4</td>\n",
       "      <td>2</td>\n",
       "    </tr>\n",
       "    <tr>\n",
       "      <th>17</th>\n",
       "      <td>7/1/2016 13:29:40</td>\n",
       "      <td>17</td>\n",
       "      <td>SV</td>\n",
       "      <td>rowing</td>\n",
       "      <td>17</td>\n",
       "      <td>NaN</td>\n",
       "      <td>4</td>\n",
       "      <td>4</td>\n",
       "      <td>2</td>\n",
       "    </tr>\n",
       "    <tr>\n",
       "      <th>18</th>\n",
       "      <td>7/1/2016 13:30:05</td>\n",
       "      <td>18</td>\n",
       "      <td>SV</td>\n",
       "      <td>rowing</td>\n",
       "      <td>18</td>\n",
       "      <td>NaN</td>\n",
       "      <td>4</td>\n",
       "      <td>4</td>\n",
       "      <td>2</td>\n",
       "    </tr>\n",
       "    <tr>\n",
       "      <th>19</th>\n",
       "      <td>7/1/2016 13:30:53</td>\n",
       "      <td>19</td>\n",
       "      <td>SV</td>\n",
       "      <td>rowing</td>\n",
       "      <td>19</td>\n",
       "      <td>NaN</td>\n",
       "      <td>3</td>\n",
       "      <td>4</td>\n",
       "      <td>2</td>\n",
       "    </tr>\n",
       "    <tr>\n",
       "      <th>20</th>\n",
       "      <td>7/1/2016 13:31:04</td>\n",
       "      <td>20</td>\n",
       "      <td>SV</td>\n",
       "      <td>rowing</td>\n",
       "      <td>20</td>\n",
       "      <td>NaN</td>\n",
       "      <td>4</td>\n",
       "      <td>4</td>\n",
       "      <td>2</td>\n",
       "    </tr>\n",
       "    <tr>\n",
       "      <th>21</th>\n",
       "      <td>7/1/2016 13:39:46</td>\n",
       "      <td>21</td>\n",
       "      <td>SV</td>\n",
       "      <td>rowing</td>\n",
       "      <td>21</td>\n",
       "      <td>NaN</td>\n",
       "      <td>3</td>\n",
       "      <td>4</td>\n",
       "      <td>2</td>\n",
       "    </tr>\n",
       "    <tr>\n",
       "      <th>22</th>\n",
       "      <td>7/1/2016 13:41:30</td>\n",
       "      <td>22</td>\n",
       "      <td>SV</td>\n",
       "      <td>rowing</td>\n",
       "      <td>22</td>\n",
       "      <td>NaN</td>\n",
       "      <td>4</td>\n",
       "      <td>4</td>\n",
       "      <td>2</td>\n",
       "    </tr>\n",
       "    <tr>\n",
       "      <th>23</th>\n",
       "      <td>7/1/2016 13:49:17</td>\n",
       "      <td>23</td>\n",
       "      <td>SV</td>\n",
       "      <td>rowing</td>\n",
       "      <td>23</td>\n",
       "      <td>NaN</td>\n",
       "      <td>3</td>\n",
       "      <td>4</td>\n",
       "      <td>2</td>\n",
       "    </tr>\n",
       "    <tr>\n",
       "      <th>24</th>\n",
       "      <td>7/1/2016 15:59:22</td>\n",
       "      <td>24</td>\n",
       "      <td>SV</td>\n",
       "      <td>rowing</td>\n",
       "      <td>24</td>\n",
       "      <td>NaN</td>\n",
       "      <td>3</td>\n",
       "      <td>4</td>\n",
       "      <td>2</td>\n",
       "    </tr>\n",
       "    <tr>\n",
       "      <th>25</th>\n",
       "      <td>7/1/2016 15:59:54</td>\n",
       "      <td>25</td>\n",
       "      <td>SV</td>\n",
       "      <td>rowing</td>\n",
       "      <td>25</td>\n",
       "      <td>NaN</td>\n",
       "      <td>3</td>\n",
       "      <td>4</td>\n",
       "      <td>2</td>\n",
       "    </tr>\n",
       "    <tr>\n",
       "      <th>26</th>\n",
       "      <td>7/1/2016 16:02:57</td>\n",
       "      <td>26</td>\n",
       "      <td>SV</td>\n",
       "      <td>rowing</td>\n",
       "      <td>26</td>\n",
       "      <td>NaN</td>\n",
       "      <td>3</td>\n",
       "      <td>4</td>\n",
       "      <td>2</td>\n",
       "    </tr>\n",
       "    <tr>\n",
       "      <th>27</th>\n",
       "      <td>7/1/2016 16:30:11</td>\n",
       "      <td>27</td>\n",
       "      <td>SV</td>\n",
       "      <td>rowing</td>\n",
       "      <td>27</td>\n",
       "      <td>NaN</td>\n",
       "      <td>4</td>\n",
       "      <td>4</td>\n",
       "      <td>2</td>\n",
       "    </tr>\n",
       "    <tr>\n",
       "      <th>28</th>\n",
       "      <td>7/1/2016 16:32:24</td>\n",
       "      <td>28</td>\n",
       "      <td>SV</td>\n",
       "      <td>rowing</td>\n",
       "      <td>28</td>\n",
       "      <td>NaN</td>\n",
       "      <td>4</td>\n",
       "      <td>4</td>\n",
       "      <td>2</td>\n",
       "    </tr>\n",
       "    <tr>\n",
       "      <th>29</th>\n",
       "      <td>7/1/2016 17:51:29</td>\n",
       "      <td>29</td>\n",
       "      <td>SV</td>\n",
       "      <td>rowing</td>\n",
       "      <td>29</td>\n",
       "      <td>NaN</td>\n",
       "      <td>4</td>\n",
       "      <td>4</td>\n",
       "      <td>2</td>\n",
       "    </tr>\n",
       "    <tr>\n",
       "      <th>...</th>\n",
       "      <td>...</td>\n",
       "      <td>...</td>\n",
       "      <td>...</td>\n",
       "      <td>...</td>\n",
       "      <td>...</td>\n",
       "      <td>...</td>\n",
       "      <td>...</td>\n",
       "      <td>...</td>\n",
       "      <td>...</td>\n",
       "    </tr>\n",
       "    <tr>\n",
       "      <th>23</th>\n",
       "      <td>NaN</td>\n",
       "      <td>23</td>\n",
       "      <td>SF</td>\n",
       "      <td>rowing</td>\n",
       "      <td>23</td>\n",
       "      <td>NaN</td>\n",
       "      <td>4</td>\n",
       "      <td>5</td>\n",
       "      <td>5</td>\n",
       "    </tr>\n",
       "    <tr>\n",
       "      <th>24</th>\n",
       "      <td>NaN</td>\n",
       "      <td>24</td>\n",
       "      <td>SF</td>\n",
       "      <td>rowing</td>\n",
       "      <td>24</td>\n",
       "      <td>NaN</td>\n",
       "      <td>3</td>\n",
       "      <td>5</td>\n",
       "      <td>5</td>\n",
       "    </tr>\n",
       "    <tr>\n",
       "      <th>25</th>\n",
       "      <td>NaN</td>\n",
       "      <td>25</td>\n",
       "      <td>SF</td>\n",
       "      <td>rowing</td>\n",
       "      <td>25</td>\n",
       "      <td>NaN</td>\n",
       "      <td>3</td>\n",
       "      <td>5</td>\n",
       "      <td>5</td>\n",
       "    </tr>\n",
       "    <tr>\n",
       "      <th>26</th>\n",
       "      <td>NaN</td>\n",
       "      <td>26</td>\n",
       "      <td>SF</td>\n",
       "      <td>rowing</td>\n",
       "      <td>26</td>\n",
       "      <td>NaN</td>\n",
       "      <td>3</td>\n",
       "      <td>5</td>\n",
       "      <td>5</td>\n",
       "    </tr>\n",
       "    <tr>\n",
       "      <th>27</th>\n",
       "      <td>NaN</td>\n",
       "      <td>27</td>\n",
       "      <td>SF</td>\n",
       "      <td>rowing</td>\n",
       "      <td>27</td>\n",
       "      <td>NaN</td>\n",
       "      <td>2</td>\n",
       "      <td>5</td>\n",
       "      <td>5</td>\n",
       "    </tr>\n",
       "    <tr>\n",
       "      <th>28</th>\n",
       "      <td>NaN</td>\n",
       "      <td>28</td>\n",
       "      <td>SF</td>\n",
       "      <td>rowing</td>\n",
       "      <td>28</td>\n",
       "      <td>NaN</td>\n",
       "      <td>3</td>\n",
       "      <td>5</td>\n",
       "      <td>5</td>\n",
       "    </tr>\n",
       "    <tr>\n",
       "      <th>29</th>\n",
       "      <td>NaN</td>\n",
       "      <td>29</td>\n",
       "      <td>SF</td>\n",
       "      <td>rowing</td>\n",
       "      <td>29</td>\n",
       "      <td>NaN</td>\n",
       "      <td>3</td>\n",
       "      <td>5</td>\n",
       "      <td>5</td>\n",
       "    </tr>\n",
       "    <tr>\n",
       "      <th>30</th>\n",
       "      <td>NaN</td>\n",
       "      <td>30</td>\n",
       "      <td>SF</td>\n",
       "      <td>rowing</td>\n",
       "      <td>30</td>\n",
       "      <td>NaN</td>\n",
       "      <td>3</td>\n",
       "      <td>4</td>\n",
       "      <td>5</td>\n",
       "    </tr>\n",
       "    <tr>\n",
       "      <th>31</th>\n",
       "      <td>NaN</td>\n",
       "      <td>31</td>\n",
       "      <td>SF</td>\n",
       "      <td>rowing</td>\n",
       "      <td>31</td>\n",
       "      <td>NaN</td>\n",
       "      <td>3</td>\n",
       "      <td>5</td>\n",
       "      <td>5</td>\n",
       "    </tr>\n",
       "    <tr>\n",
       "      <th>32</th>\n",
       "      <td>NaN</td>\n",
       "      <td>32</td>\n",
       "      <td>SF</td>\n",
       "      <td>rowing</td>\n",
       "      <td>32</td>\n",
       "      <td>NaN</td>\n",
       "      <td>3</td>\n",
       "      <td>5</td>\n",
       "      <td>5</td>\n",
       "    </tr>\n",
       "    <tr>\n",
       "      <th>33</th>\n",
       "      <td>NaN</td>\n",
       "      <td>33</td>\n",
       "      <td>SF</td>\n",
       "      <td>rowing</td>\n",
       "      <td>33</td>\n",
       "      <td>NaN</td>\n",
       "      <td>4</td>\n",
       "      <td>4</td>\n",
       "      <td>5</td>\n",
       "    </tr>\n",
       "    <tr>\n",
       "      <th>34</th>\n",
       "      <td>NaN</td>\n",
       "      <td>34</td>\n",
       "      <td>SF</td>\n",
       "      <td>rowing</td>\n",
       "      <td>34</td>\n",
       "      <td>NaN</td>\n",
       "      <td>3</td>\n",
       "      <td>5</td>\n",
       "      <td>5</td>\n",
       "    </tr>\n",
       "    <tr>\n",
       "      <th>35</th>\n",
       "      <td>NaN</td>\n",
       "      <td>35</td>\n",
       "      <td>SF</td>\n",
       "      <td>rowing</td>\n",
       "      <td>35</td>\n",
       "      <td>NaN</td>\n",
       "      <td>3</td>\n",
       "      <td>5</td>\n",
       "      <td>5</td>\n",
       "    </tr>\n",
       "    <tr>\n",
       "      <th>36</th>\n",
       "      <td>NaN</td>\n",
       "      <td>36</td>\n",
       "      <td>SF</td>\n",
       "      <td>computer programing</td>\n",
       "      <td>36</td>\n",
       "      <td>NaN</td>\n",
       "      <td>4</td>\n",
       "      <td>5</td>\n",
       "      <td>5</td>\n",
       "    </tr>\n",
       "    <tr>\n",
       "      <th>37</th>\n",
       "      <td>NaN</td>\n",
       "      <td>37</td>\n",
       "      <td>SF</td>\n",
       "      <td>computer programing</td>\n",
       "      <td>37</td>\n",
       "      <td>NaN</td>\n",
       "      <td>4</td>\n",
       "      <td>5</td>\n",
       "      <td>5</td>\n",
       "    </tr>\n",
       "    <tr>\n",
       "      <th>38</th>\n",
       "      <td>NaN</td>\n",
       "      <td>38</td>\n",
       "      <td>SF</td>\n",
       "      <td>computer programing</td>\n",
       "      <td>38</td>\n",
       "      <td>NaN</td>\n",
       "      <td>4</td>\n",
       "      <td>4</td>\n",
       "      <td>5</td>\n",
       "    </tr>\n",
       "    <tr>\n",
       "      <th>39</th>\n",
       "      <td>NaN</td>\n",
       "      <td>39</td>\n",
       "      <td>SF</td>\n",
       "      <td>computer programing</td>\n",
       "      <td>39</td>\n",
       "      <td>NaN</td>\n",
       "      <td>3</td>\n",
       "      <td>5</td>\n",
       "      <td>5</td>\n",
       "    </tr>\n",
       "    <tr>\n",
       "      <th>40</th>\n",
       "      <td>NaN</td>\n",
       "      <td>40</td>\n",
       "      <td>SF</td>\n",
       "      <td>rowing</td>\n",
       "      <td>40</td>\n",
       "      <td>NaN</td>\n",
       "      <td>3</td>\n",
       "      <td>3</td>\n",
       "      <td>5</td>\n",
       "    </tr>\n",
       "    <tr>\n",
       "      <th>41</th>\n",
       "      <td>NaN</td>\n",
       "      <td>41</td>\n",
       "      <td>SF</td>\n",
       "      <td>rowing</td>\n",
       "      <td>41</td>\n",
       "      <td>NaN</td>\n",
       "      <td>3</td>\n",
       "      <td>3</td>\n",
       "      <td>5</td>\n",
       "    </tr>\n",
       "    <tr>\n",
       "      <th>0</th>\n",
       "      <td>8/5/2016 1:39:41</td>\n",
       "      <td>0</td>\n",
       "      <td>Taipei</td>\n",
       "      <td>NaN</td>\n",
       "      <td>0</td>\n",
       "      <td>NaN</td>\n",
       "      <td>3</td>\n",
       "      <td>3</td>\n",
       "      <td>7</td>\n",
       "    </tr>\n",
       "    <tr>\n",
       "      <th>1</th>\n",
       "      <td>8/5/2016 1:40:47</td>\n",
       "      <td>1</td>\n",
       "      <td>Taipei</td>\n",
       "      <td>NaN</td>\n",
       "      <td>1</td>\n",
       "      <td>NaN</td>\n",
       "      <td>3</td>\n",
       "      <td>4</td>\n",
       "      <td>7</td>\n",
       "    </tr>\n",
       "    <tr>\n",
       "      <th>2</th>\n",
       "      <td>8/5/2016 1:40:50</td>\n",
       "      <td>2</td>\n",
       "      <td>Taipei</td>\n",
       "      <td>NaN</td>\n",
       "      <td>2</td>\n",
       "      <td>NaN</td>\n",
       "      <td>3</td>\n",
       "      <td>4</td>\n",
       "      <td>7</td>\n",
       "    </tr>\n",
       "    <tr>\n",
       "      <th>3</th>\n",
       "      <td>8/5/2016 1:42:44</td>\n",
       "      <td>3</td>\n",
       "      <td>Taipei</td>\n",
       "      <td>NaN</td>\n",
       "      <td>3</td>\n",
       "      <td>NaN</td>\n",
       "      <td>4</td>\n",
       "      <td>4</td>\n",
       "      <td>7</td>\n",
       "    </tr>\n",
       "    <tr>\n",
       "      <th>4</th>\n",
       "      <td>8/5/2016 1:45:13</td>\n",
       "      <td>4</td>\n",
       "      <td>Taipei</td>\n",
       "      <td>NaN</td>\n",
       "      <td>4</td>\n",
       "      <td>NaN</td>\n",
       "      <td>4</td>\n",
       "      <td>5</td>\n",
       "      <td>7</td>\n",
       "    </tr>\n",
       "    <tr>\n",
       "      <th>5</th>\n",
       "      <td>8/5/2016 1:45:39</td>\n",
       "      <td>5</td>\n",
       "      <td>Taipei</td>\n",
       "      <td>NaN</td>\n",
       "      <td>5</td>\n",
       "      <td>NaN</td>\n",
       "      <td>3</td>\n",
       "      <td>4</td>\n",
       "      <td>7</td>\n",
       "    </tr>\n",
       "    <tr>\n",
       "      <th>6</th>\n",
       "      <td>8/5/2016 1:49:21</td>\n",
       "      <td>6</td>\n",
       "      <td>Taipei</td>\n",
       "      <td>NaN</td>\n",
       "      <td>6</td>\n",
       "      <td>NaN</td>\n",
       "      <td>3</td>\n",
       "      <td>4</td>\n",
       "      <td>7</td>\n",
       "    </tr>\n",
       "    <tr>\n",
       "      <th>7</th>\n",
       "      <td>8/8/2016 1:30:34</td>\n",
       "      <td>7</td>\n",
       "      <td>Taipei</td>\n",
       "      <td>NaN</td>\n",
       "      <td>7</td>\n",
       "      <td>NaN</td>\n",
       "      <td>3</td>\n",
       "      <td>5</td>\n",
       "      <td>7</td>\n",
       "    </tr>\n",
       "    <tr>\n",
       "      <th>8</th>\n",
       "      <td>8/8/2016 1:33:45</td>\n",
       "      <td>8</td>\n",
       "      <td>Taipei</td>\n",
       "      <td>NaN</td>\n",
       "      <td>8</td>\n",
       "      <td>NaN</td>\n",
       "      <td>3</td>\n",
       "      <td>5</td>\n",
       "      <td>7</td>\n",
       "    </tr>\n",
       "    <tr>\n",
       "      <th>9</th>\n",
       "      <td>8/8/2016 1:49:29</td>\n",
       "      <td>9</td>\n",
       "      <td>Taipei</td>\n",
       "      <td>NaN</td>\n",
       "      <td>9</td>\n",
       "      <td>NaN</td>\n",
       "      <td>3</td>\n",
       "      <td>5</td>\n",
       "      <td>7</td>\n",
       "    </tr>\n",
       "    <tr>\n",
       "      <th>10</th>\n",
       "      <td>8/8/2016 1:51:00</td>\n",
       "      <td>10</td>\n",
       "      <td>Taipei</td>\n",
       "      <td>NaN</td>\n",
       "      <td>10</td>\n",
       "      <td>NaN</td>\n",
       "      <td>3</td>\n",
       "      <td>3</td>\n",
       "      <td>7</td>\n",
       "    </tr>\n",
       "  </tbody>\n",
       "</table>\n",
       "<p>876 rows × 9 columns</p>\n",
       "</div>"
      ],
      "text/plain": [
       "            Timestamp  Unnamed: 0 location          merit badge  no_name  \\\n",
       "0   7/1/2016 13:27:56           0       SV               rowing        0   \n",
       "1   7/1/2016 13:29:33           1       SV               rowing        1   \n",
       "2   7/1/2016 13:29:43           2       SV               rowing        2   \n",
       "3   7/1/2016 13:30:28           3       SV               rowing        3   \n",
       "4   7/1/2016 13:34:11           4       SV               rowing        4   \n",
       "5   7/1/2016 13:35:20           5       SV               rowing        5   \n",
       "6   7/1/2016 16:35:14           6       SV               rowing        6   \n",
       "7   7/1/2016 17:01:13           7       SV               rowing        7   \n",
       "8    7/2/2016 9:50:36           8       SV               rowing        8   \n",
       "9   7/1/2016 10:36:57           9       SV            astronomy        9   \n",
       "10  7/1/2016 10:41:44          10       SV            astronomy       10   \n",
       "11  7/1/2016 10:47:58          11       SV            astronomy       11   \n",
       "12  7/1/2016 10:56:51          12       SV            astronomy       12   \n",
       "13  7/4/2016 23:02:16          13       SV               rowing       13   \n",
       "14  7/1/2016 13:27:10          14       SV               rowing       14   \n",
       "15  7/1/2016 13:28:59          15       SV               rowing       15   \n",
       "16  7/1/2016 13:29:07          16       SV               rowing       16   \n",
       "17  7/1/2016 13:29:40          17       SV               rowing       17   \n",
       "18  7/1/2016 13:30:05          18       SV               rowing       18   \n",
       "19  7/1/2016 13:30:53          19       SV               rowing       19   \n",
       "20  7/1/2016 13:31:04          20       SV               rowing       20   \n",
       "21  7/1/2016 13:39:46          21       SV               rowing       21   \n",
       "22  7/1/2016 13:41:30          22       SV               rowing       22   \n",
       "23  7/1/2016 13:49:17          23       SV               rowing       23   \n",
       "24  7/1/2016 15:59:22          24       SV               rowing       24   \n",
       "25  7/1/2016 15:59:54          25       SV               rowing       25   \n",
       "26  7/1/2016 16:02:57          26       SV               rowing       26   \n",
       "27  7/1/2016 16:30:11          27       SV               rowing       27   \n",
       "28  7/1/2016 16:32:24          28       SV               rowing       28   \n",
       "29  7/1/2016 17:51:29          29       SV               rowing       29   \n",
       "..                ...         ...      ...                  ...      ...   \n",
       "23                NaN          23       SF               rowing       23   \n",
       "24                NaN          24       SF               rowing       24   \n",
       "25                NaN          25       SF               rowing       25   \n",
       "26                NaN          26       SF               rowing       26   \n",
       "27                NaN          27       SF               rowing       27   \n",
       "28                NaN          28       SF               rowing       28   \n",
       "29                NaN          29       SF               rowing       29   \n",
       "30                NaN          30       SF               rowing       30   \n",
       "31                NaN          31       SF               rowing       31   \n",
       "32                NaN          32       SF               rowing       32   \n",
       "33                NaN          33       SF               rowing       33   \n",
       "34                NaN          34       SF               rowing       34   \n",
       "35                NaN          35       SF               rowing       35   \n",
       "36                NaN          36       SF  computer programing       36   \n",
       "37                NaN          37       SF  computer programing       37   \n",
       "38                NaN          38       SF  computer programing       38   \n",
       "39                NaN          39       SF  computer programing       39   \n",
       "40                NaN          40       SF               rowing       40   \n",
       "41                NaN          41       SF               rowing       41   \n",
       "0    8/5/2016 1:39:41           0   Taipei                  NaN        0   \n",
       "1    8/5/2016 1:40:47           1   Taipei                  NaN        1   \n",
       "2    8/5/2016 1:40:50           2   Taipei                  NaN        2   \n",
       "3    8/5/2016 1:42:44           3   Taipei                  NaN        3   \n",
       "4    8/5/2016 1:45:13           4   Taipei                  NaN        4   \n",
       "5    8/5/2016 1:45:39           5   Taipei                  NaN        5   \n",
       "6    8/5/2016 1:49:21           6   Taipei                  NaN        6   \n",
       "7    8/8/2016 1:30:34           7   Taipei                  NaN        7   \n",
       "8    8/8/2016 1:33:45           8   Taipei                  NaN        8   \n",
       "9    8/8/2016 1:49:29           9   Taipei                  NaN        9   \n",
       "10   8/8/2016 1:51:00          10   Taipei                  NaN       10   \n",
       "\n",
       "   no_name.1 pace rateing  week_num  \n",
       "0        NaN    4       3         2  \n",
       "1        NaN    5       3         2  \n",
       "2        NaN    3       3         2  \n",
       "3        NaN    4       3         2  \n",
       "4        NaN    3       3         2  \n",
       "5        NaN    3       3         2  \n",
       "6        NaN    3       3         2  \n",
       "7        NaN    4       3         2  \n",
       "8        NaN    3       3         2  \n",
       "9        NaN    3       3         2  \n",
       "10       NaN    5       3         2  \n",
       "11       NaN    3       3         2  \n",
       "12       NaN    3       3         2  \n",
       "13       NaN    4       3         2  \n",
       "14       NaN    3       4         2  \n",
       "15       NaN    3       4         2  \n",
       "16       NaN    3       4         2  \n",
       "17       NaN    4       4         2  \n",
       "18       NaN    4       4         2  \n",
       "19       NaN    3       4         2  \n",
       "20       NaN    4       4         2  \n",
       "21       NaN    3       4         2  \n",
       "22       NaN    4       4         2  \n",
       "23       NaN    3       4         2  \n",
       "24       NaN    3       4         2  \n",
       "25       NaN    3       4         2  \n",
       "26       NaN    3       4         2  \n",
       "27       NaN    4       4         2  \n",
       "28       NaN    4       4         2  \n",
       "29       NaN    4       4         2  \n",
       "..       ...  ...     ...       ...  \n",
       "23       NaN    4       5         5  \n",
       "24       NaN    3       5         5  \n",
       "25       NaN    3       5         5  \n",
       "26       NaN    3       5         5  \n",
       "27       NaN    2       5         5  \n",
       "28       NaN    3       5         5  \n",
       "29       NaN    3       5         5  \n",
       "30       NaN    3       4         5  \n",
       "31       NaN    3       5         5  \n",
       "32       NaN    3       5         5  \n",
       "33       NaN    4       4         5  \n",
       "34       NaN    3       5         5  \n",
       "35       NaN    3       5         5  \n",
       "36       NaN    4       5         5  \n",
       "37       NaN    4       5         5  \n",
       "38       NaN    4       4         5  \n",
       "39       NaN    3       5         5  \n",
       "40       NaN    3       3         5  \n",
       "41       NaN    3       3         5  \n",
       "0        NaN    3       3         7  \n",
       "1        NaN    3       4         7  \n",
       "2        NaN    3       4         7  \n",
       "3        NaN    4       4         7  \n",
       "4        NaN    4       5         7  \n",
       "5        NaN    3       4         7  \n",
       "6        NaN    3       4         7  \n",
       "7        NaN    3       5         7  \n",
       "8        NaN    3       5         7  \n",
       "9        NaN    3       5         7  \n",
       "10       NaN    3       3         7  \n",
       "\n",
       "[876 rows x 9 columns]"
      ]
     },
     "execution_count": 31,
     "metadata": {},
     "output_type": "execute_result"
    }
   ],
   "source": [
    "big_fat_DF"
   ]
  },
  {
   "cell_type": "code",
   "execution_count": 32,
   "metadata": {},
   "outputs": [],
   "source": [
    "big_fat_DF.drop(columns=[\"Unnamed: 0\"], inplace=True)\n",
    "big_fat_DF.drop(columns=[\"no_name\"], inplace=True)\n",
    "big_fat_DF.drop(columns=[\"no_name.1\"], inplace=True)"
   ]
  },
  {
   "cell_type": "code",
   "execution_count": 33,
   "metadata": {},
   "outputs": [
    {
     "data": {
      "text/html": [
       "<div>\n",
       "<style scoped>\n",
       "    .dataframe tbody tr th:only-of-type {\n",
       "        vertical-align: middle;\n",
       "    }\n",
       "\n",
       "    .dataframe tbody tr th {\n",
       "        vertical-align: top;\n",
       "    }\n",
       "\n",
       "    .dataframe thead th {\n",
       "        text-align: right;\n",
       "    }\n",
       "</style>\n",
       "<table border=\"1\" class=\"dataframe\">\n",
       "  <thead>\n",
       "    <tr style=\"text-align: right;\">\n",
       "      <th></th>\n",
       "      <th>Timestamp</th>\n",
       "      <th>location</th>\n",
       "      <th>merit badge</th>\n",
       "      <th>pace</th>\n",
       "      <th>rateing</th>\n",
       "      <th>week_num</th>\n",
       "    </tr>\n",
       "  </thead>\n",
       "  <tbody>\n",
       "    <tr>\n",
       "      <th>0</th>\n",
       "      <td>7/1/2016 13:27:56</td>\n",
       "      <td>SV</td>\n",
       "      <td>rowing</td>\n",
       "      <td>4</td>\n",
       "      <td>3</td>\n",
       "      <td>2</td>\n",
       "    </tr>\n",
       "    <tr>\n",
       "      <th>1</th>\n",
       "      <td>7/1/2016 13:29:33</td>\n",
       "      <td>SV</td>\n",
       "      <td>rowing</td>\n",
       "      <td>5</td>\n",
       "      <td>3</td>\n",
       "      <td>2</td>\n",
       "    </tr>\n",
       "    <tr>\n",
       "      <th>2</th>\n",
       "      <td>7/1/2016 13:29:43</td>\n",
       "      <td>SV</td>\n",
       "      <td>rowing</td>\n",
       "      <td>3</td>\n",
       "      <td>3</td>\n",
       "      <td>2</td>\n",
       "    </tr>\n",
       "    <tr>\n",
       "      <th>3</th>\n",
       "      <td>7/1/2016 13:30:28</td>\n",
       "      <td>SV</td>\n",
       "      <td>rowing</td>\n",
       "      <td>4</td>\n",
       "      <td>3</td>\n",
       "      <td>2</td>\n",
       "    </tr>\n",
       "    <tr>\n",
       "      <th>4</th>\n",
       "      <td>7/1/2016 13:34:11</td>\n",
       "      <td>SV</td>\n",
       "      <td>rowing</td>\n",
       "      <td>3</td>\n",
       "      <td>3</td>\n",
       "      <td>2</td>\n",
       "    </tr>\n",
       "  </tbody>\n",
       "</table>\n",
       "</div>"
      ],
      "text/plain": [
       "           Timestamp location merit badge pace rateing  week_num\n",
       "0  7/1/2016 13:27:56       SV      rowing    4       3         2\n",
       "1  7/1/2016 13:29:33       SV      rowing    5       3         2\n",
       "2  7/1/2016 13:29:43       SV      rowing    3       3         2\n",
       "3  7/1/2016 13:30:28       SV      rowing    4       3         2\n",
       "4  7/1/2016 13:34:11       SV      rowing    3       3         2"
      ]
     },
     "execution_count": 33,
     "metadata": {},
     "output_type": "execute_result"
    }
   ],
   "source": [
    "big_fat_DF.head()"
   ]
  },
  {
   "cell_type": "code",
   "execution_count": 34,
   "metadata": {},
   "outputs": [
    {
     "data": {
      "text/html": [
       "<div>\n",
       "<style scoped>\n",
       "    .dataframe tbody tr th:only-of-type {\n",
       "        vertical-align: middle;\n",
       "    }\n",
       "\n",
       "    .dataframe tbody tr th {\n",
       "        vertical-align: top;\n",
       "    }\n",
       "\n",
       "    .dataframe thead th {\n",
       "        text-align: right;\n",
       "    }\n",
       "</style>\n",
       "<table border=\"1\" class=\"dataframe\">\n",
       "  <thead>\n",
       "    <tr style=\"text-align: right;\">\n",
       "      <th></th>\n",
       "      <th>Timestamp</th>\n",
       "      <th>location</th>\n",
       "      <th>merit badge</th>\n",
       "      <th>pace</th>\n",
       "      <th>rateing</th>\n",
       "      <th>week_num</th>\n",
       "    </tr>\n",
       "  </thead>\n",
       "  <tbody>\n",
       "    <tr>\n",
       "      <th>33</th>\n",
       "      <td>NaN</td>\n",
       "      <td>SV</td>\n",
       "      <td>Average:</td>\n",
       "      <td>#REF!</td>\n",
       "      <td>#REF!</td>\n",
       "      <td>3</td>\n",
       "    </tr>\n",
       "  </tbody>\n",
       "</table>\n",
       "</div>"
      ],
      "text/plain": [
       "   Timestamp location merit badge   pace rateing  week_num\n",
       "33       NaN       SV    Average:  #REF!   #REF!         3"
      ]
     },
     "execution_count": 34,
     "metadata": {},
     "output_type": "execute_result"
    }
   ],
   "source": [
    "# Drop row where df[\"merit badge\"]= \"Average:\"\n",
    "\n",
    "big_fat_DF[big_fat_DF[\"merit badge\"]== \"Average:\"]"
   ]
  },
  {
   "cell_type": "code",
   "execution_count": 35,
   "metadata": {},
   "outputs": [],
   "source": [
    "big_fat_DF = big_fat_DF[big_fat_DF[\"merit badge\"]!= \"Average:\"]"
   ]
  },
  {
   "cell_type": "code",
   "execution_count": 36,
   "metadata": {},
   "outputs": [
    {
     "data": {
      "text/html": [
       "<div>\n",
       "<style scoped>\n",
       "    .dataframe tbody tr th:only-of-type {\n",
       "        vertical-align: middle;\n",
       "    }\n",
       "\n",
       "    .dataframe tbody tr th {\n",
       "        vertical-align: top;\n",
       "    }\n",
       "\n",
       "    .dataframe thead th {\n",
       "        text-align: right;\n",
       "    }\n",
       "</style>\n",
       "<table border=\"1\" class=\"dataframe\">\n",
       "  <thead>\n",
       "    <tr style=\"text-align: right;\">\n",
       "      <th></th>\n",
       "      <th>Timestamp</th>\n",
       "      <th>location</th>\n",
       "      <th>merit badge</th>\n",
       "      <th>pace</th>\n",
       "      <th>rateing</th>\n",
       "      <th>week_num</th>\n",
       "    </tr>\n",
       "  </thead>\n",
       "  <tbody>\n",
       "  </tbody>\n",
       "</table>\n",
       "</div>"
      ],
      "text/plain": [
       "Empty DataFrame\n",
       "Columns: [Timestamp, location, merit badge, pace, rateing, week_num]\n",
       "Index: []"
      ]
     },
     "execution_count": 36,
     "metadata": {},
     "output_type": "execute_result"
    }
   ],
   "source": [
    "big_fat_DF[big_fat_DF[\"merit badge\"]== \"Average:\"]"
   ]
  },
  {
   "cell_type": "code",
   "execution_count": null,
   "metadata": {},
   "outputs": [],
   "source": []
  },
  {
   "cell_type": "code",
   "execution_count": 37,
   "metadata": {},
   "outputs": [],
   "source": [
    "big_fat_DF.to_csv(\"./clean_data/big_fat.csv\")"
   ]
  },
  {
   "cell_type": "code",
   "execution_count": 38,
   "metadata": {},
   "outputs": [
    {
     "data": {
      "text/plain": [
       "'./clean_data/2016/Week_2_Feedback_-_SV.csv'"
      ]
     },
     "execution_count": 38,
     "metadata": {},
     "output_type": "execute_result"
    }
   ],
   "source": [
    "FILENAMES[1]"
   ]
  },
  {
   "cell_type": "markdown",
   "metadata": {},
   "source": [
    "# Now make some pretty visuals:\n"
   ]
  },
  {
   "cell_type": "code",
   "execution_count": 39,
   "metadata": {},
   "outputs": [],
   "source": [
    "big_fat_DF = pd.read_csv(\"./clean_data/big_fat.csv\")"
   ]
  },
  {
   "cell_type": "code",
   "execution_count": null,
   "metadata": {},
   "outputs": [],
   "source": []
  },
  {
   "cell_type": "code",
   "execution_count": 40,
   "metadata": {},
   "outputs": [],
   "source": [
    "# pi chart\n",
    "import matplotlib.pyplot as plt"
   ]
  },
  {
   "cell_type": "code",
   "execution_count": 41,
   "metadata": {},
   "outputs": [],
   "source": [
    "nps_df = big_fat_DF[\"merit badge\"].value_counts()\n",
    "LABELS = ['Detractor', 'Promoter', 'Passive']\n",
    "colors = ['lightcoral', 'yellowgreen', 'yellow']"
   ]
  },
  {
   "cell_type": "code",
   "execution_count": 42,
   "metadata": {},
   "outputs": [],
   "source": [
    "# plt.pie(nps_df.values, labels=LABELS, colors=colors, autopct='%1.1f%%', shadow=True)"
   ]
  },
  {
   "cell_type": "code",
   "execution_count": 43,
   "metadata": {},
   "outputs": [
    {
     "data": {
      "text/plain": [
       "<matplotlib.axes._subplots.AxesSubplot at 0x11ffaa748>"
      ]
     },
     "execution_count": 43,
     "metadata": {},
     "output_type": "execute_result"
    },
    {
     "data": {
      "image/png": "[encoded data removed]",
      "text/plain": [
       "<Figure size 432x288 with 1 Axes>"
      ]
     },
     "metadata": {
      "needs_background": "light"
     },
     "output_type": "display_data"
    }
   ],
   "source": [
    "nps_df.plot(kind=\"bar\")"
   ]
  },
  {
   "cell_type": "code",
   "execution_count": 57,
   "metadata": {},
   "outputs": [
    {
     "data": {
      "text/html": [
       "<div>\n",
       "<style scoped>\n",
       "    .dataframe tbody tr th:only-of-type {\n",
       "        vertical-align: middle;\n",
       "    }\n",
       "\n",
       "    .dataframe tbody tr th {\n",
       "        vertical-align: top;\n",
       "    }\n",
       "\n",
       "    .dataframe thead th {\n",
       "        text-align: right;\n",
       "    }\n",
       "</style>\n",
       "<table border=\"1\" class=\"dataframe\">\n",
       "  <thead>\n",
       "    <tr style=\"text-align: right;\">\n",
       "      <th></th>\n",
       "      <th>Unnamed: 0</th>\n",
       "      <th>Timestamp</th>\n",
       "      <th>location</th>\n",
       "      <th>merit badge</th>\n",
       "      <th>pace</th>\n",
       "      <th>rateing</th>\n",
       "      <th>week_num</th>\n",
       "    </tr>\n",
       "  </thead>\n",
       "  <tbody>\n",
       "    <tr>\n",
       "      <th>0</th>\n",
       "      <td>0</td>\n",
       "      <td>7/1/2016 13:27:56</td>\n",
       "      <td>SV</td>\n",
       "      <td>rowing</td>\n",
       "      <td>4</td>\n",
       "      <td>3</td>\n",
       "      <td>2</td>\n",
       "    </tr>\n",
       "    <tr>\n",
       "      <th>1</th>\n",
       "      <td>1</td>\n",
       "      <td>7/1/2016 13:29:33</td>\n",
       "      <td>SV</td>\n",
       "      <td>rowing</td>\n",
       "      <td>5</td>\n",
       "      <td>3</td>\n",
       "      <td>2</td>\n",
       "    </tr>\n",
       "    <tr>\n",
       "      <th>2</th>\n",
       "      <td>2</td>\n",
       "      <td>7/1/2016 13:29:43</td>\n",
       "      <td>SV</td>\n",
       "      <td>rowing</td>\n",
       "      <td>3</td>\n",
       "      <td>3</td>\n",
       "      <td>2</td>\n",
       "    </tr>\n",
       "    <tr>\n",
       "      <th>3</th>\n",
       "      <td>3</td>\n",
       "      <td>7/1/2016 13:30:28</td>\n",
       "      <td>SV</td>\n",
       "      <td>rowing</td>\n",
       "      <td>4</td>\n",
       "      <td>3</td>\n",
       "      <td>2</td>\n",
       "    </tr>\n",
       "    <tr>\n",
       "      <th>4</th>\n",
       "      <td>4</td>\n",
       "      <td>7/1/2016 13:34:11</td>\n",
       "      <td>SV</td>\n",
       "      <td>rowing</td>\n",
       "      <td>3</td>\n",
       "      <td>3</td>\n",
       "      <td>2</td>\n",
       "    </tr>\n",
       "  </tbody>\n",
       "</table>\n",
       "</div>"
      ],
      "text/plain": [
       "   Unnamed: 0          Timestamp location merit badge  pace  rateing  week_num\n",
       "0           0  7/1/2016 13:27:56       SV      rowing     4        3         2\n",
       "1           1  7/1/2016 13:29:33       SV      rowing     5        3         2\n",
       "2           2  7/1/2016 13:29:43       SV      rowing     3        3         2\n",
       "3           3  7/1/2016 13:30:28       SV      rowing     4        3         2\n",
       "4           4  7/1/2016 13:34:11       SV      rowing     3        3         2"
      ]
     },
     "execution_count": 57,
     "metadata": {},
     "output_type": "execute_result"
    }
   ],
   "source": [
    "big_fat_DF.head()"
   ]
  },
  {
   "cell_type": "code",
   "execution_count": 44,
   "metadata": {},
   "outputs": [],
   "source": [
    "# plt.pie(pi_val, labels = LABELS,  autopct='%1.1f%%', shadow=True)"
   ]
  },
  {
   "cell_type": "code",
   "execution_count": 56,
   "metadata": {},
   "outputs": [
    {
     "data": {
      "text/plain": [
       "<matplotlib.axes._subplots.AxesSubplot at 0x12191c5c0>"
      ]
     },
     "execution_count": 56,
     "metadata": {},
     "output_type": "execute_result"
    },
    {
     "data": {
      "image/png": "[encoded data removed]",
      "text/plain": [
       "<Figure size 432x288 with 1 Axes>"
      ]
     },
     "metadata": {
      "needs_background": "light"
     },
     "output_type": "display_data"
    }
   ],
   "source": [
    "order = [1, 2, 3, 4, 5, 6, 7]\n",
    "\n",
    "\n",
    "\n",
    "big_fat_DF[\"week_num\"].value_counts().plot(kind=\"bar\")"
   ]
  },
  {
   "cell_type": "code",
   "execution_count": 53,
   "metadata": {},
   "outputs": [
    {
     "ename": "NameError",
     "evalue": "name 'df' is not defined",
     "output_type": "error",
     "traceback": [
      "\u001b[0;31m---------------------------------------------------------------------------\u001b[0m",
      "\u001b[0;31mNameError\u001b[0m                                 Traceback (most recent call last)",
      "\u001b[0;32m<ipython-input-53-30936a4fd3b9>\u001b[0m in \u001b[0;36m<module>\u001b[0;34m\u001b[0m\n\u001b[0;32m----> 1\u001b[0;31m \u001b[0mNPS16A\u001b[0m\u001b[0;34m=\u001b[0m\u001b[0mdf\u001b[0m\u001b[0;34m[\u001b[0m\u001b[0mdf\u001b[0m\u001b[0;34m[\u001b[0m\u001b[0;34m'year'\u001b[0m\u001b[0;34m]\u001b[0m\u001b[0;34m==\u001b[0m\u001b[0;36m2016\u001b[0m\u001b[0;34m]\u001b[0m\u001b[0;34m[\u001b[0m\u001b[0mdf\u001b[0m\u001b[0;34m[\u001b[0m\u001b[0;34m'NPS'\u001b[0m\u001b[0;34m]\u001b[0m\u001b[0;34m==\u001b[0m\u001b[0;34m\"Detractor\"\u001b[0m\u001b[0;34m]\u001b[0m\u001b[0;34m[\u001b[0m\u001b[0;34m'pacing'\u001b[0m\u001b[0;34m]\u001b[0m\u001b[0;34m\u001b[0m\u001b[0;34m\u001b[0m\u001b[0m\n\u001b[0m\u001b[1;32m      2\u001b[0m \u001b[0;34m\u001b[0m\u001b[0m\n\u001b[1;32m      3\u001b[0m \u001b[0mratings_order\u001b[0m \u001b[0;34m=\u001b[0m \u001b[0;34m[\u001b[0m\u001b[0;34m'1'\u001b[0m\u001b[0;34m,\u001b[0m \u001b[0;34m'2'\u001b[0m\u001b[0;34m,\u001b[0m \u001b[0;34m'3'\u001b[0m\u001b[0;34m,\u001b[0m \u001b[0;34m'4'\u001b[0m\u001b[0;34m,\u001b[0m \u001b[0;34m'5'\u001b[0m\u001b[0;34m]\u001b[0m\u001b[0;34m\u001b[0m\u001b[0;34m\u001b[0m\u001b[0m\n\u001b[1;32m      4\u001b[0m \u001b[0mNPS16A\u001b[0m\u001b[0;34m.\u001b[0m\u001b[0mvalue_counts\u001b[0m\u001b[0;34m(\u001b[0m\u001b[0;34m)\u001b[0m\u001b[0;34m.\u001b[0m\u001b[0mloc\u001b[0m\u001b[0;34m[\u001b[0m\u001b[0mratings_order\u001b[0m\u001b[0;34m]\u001b[0m\u001b[0;34m.\u001b[0m\u001b[0mplot\u001b[0m\u001b[0;34m(\u001b[0m\u001b[0mkind\u001b[0m\u001b[0;34m=\u001b[0m\u001b[0;34m\"bar\"\u001b[0m\u001b[0;34m)\u001b[0m\u001b[0;34m\u001b[0m\u001b[0;34m\u001b[0m\u001b[0m\n",
      "\u001b[0;31mNameError\u001b[0m: name 'df' is not defined"
     ]
    }
   ],
   "source": [
    "NPS16A=df[df['year']==2016][df['NPS']==\"Detractor\"]['pacing']\n",
    "\n",
    "ratings_order = ['1', '2', '3', '4', '5']\n",
    "NPS16A.value_counts().loc[ratings_order].plot(kind=\"bar\")"
   ]
  },
  {
   "cell_type": "code",
   "execution_count": 59,
   "metadata": {},
   "outputs": [
    {
     "data": {
      "text/plain": [
       "<matplotlib.axes._subplots.AxesSubplot at 0x12190cd68>"
      ]
     },
     "execution_count": 59,
     "metadata": {},
     "output_type": "execute_result"
    },
    {
     "data": {
      "image/png": "[encoded data removed]",
      "text/plain": [
       "<Figure size 432x288 with 1 Axes>"
      ]
     },
     "metadata": {},
     "output_type": "display_data"
    }
   ],
   "source": [
    "big_fat_DF[\"merit badge\"].value_counts().plot(kind=\"pie\")"
   ]
  },
  {
   "cell_type": "code",
   "execution_count": 72,
   "metadata": {},
   "outputs": [
    {
     "data": {
      "text/plain": [
       "<matplotlib.axes._subplots.AxesSubplot at 0x122097c50>"
      ]
     },
     "execution_count": 72,
     "metadata": {},
     "output_type": "execute_result"
    },
    {
     "data": {
      "image/png": "[encoded data removed]",
      "text/plain": [
       "<Figure size 432x288 with 1 Axes>"
      ]
     },
     "metadata": {
      "needs_background": "light"
     },
     "output_type": "display_data"
    }
   ],
   "source": [
    "big_fat_DF[\"rateing\"].plot(kind=\"hist\")"
   ]
  },
  {
   "cell_type": "code",
   "execution_count": 75,
   "metadata": {},
   "outputs": [
    {
     "data": {
      "text/plain": [
       "<matplotlib.axes._subplots.AxesSubplot at 0x1222e48d0>"
      ]
     },
     "execution_count": 75,
     "metadata": {},
     "output_type": "execute_result"
    },
    {
     "data": {
      "image/png": "[encoded data removed]",
      "text/plain": [
       "<Figure size 432x288 with 1 Axes>"
      ]
     },
     "metadata": {},
     "output_type": "display_data"
    }
   ],
   "source": [
    "big_fat_DF[\"location\"].value_counts().plot(kind=\"pie\")"
   ]
  },
  {
   "cell_type": "code",
   "execution_count": null,
   "metadata": {},
   "outputs": [],
   "source": []
  }
 ],
 "metadata": {
  "kernelspec": {
   "display_name": "Python 3",
   "language": "python",
   "name": "python3"
  },
  "language_info": {
   "codemirror_mode": {
    "name": "ipython",
    "version": 3
   },
   "file_extension": ".py",
   "mimetype": "text/x-python",
   "name": "python",
   "nbconvert_exporter": "python",
   "pygments_lexer": "ipython3",
   "version": "3.7.1"
  }
 },
 "nbformat": 4,
 "nbformat_minor": 2
}
