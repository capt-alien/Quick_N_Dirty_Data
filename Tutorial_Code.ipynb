{
 "cells": [
  {
   "cell_type": "code",
   "execution_count": 199,
   "metadata": {},
   "outputs": [],
   "source": [
    "import glob, os\n",
    "import pandas as pd"
   ]
  },
  {
   "cell_type": "code",
   "execution_count": 200,
   "metadata": {},
   "outputs": [
    {
     "data": {
      "text/plain": [
       "['./clean_data/2016/Break Camp week 6 Feedback - Tokyo.csv',\n",
       " './clean_data/2016/Break Camp week 6 Feedback - Taipei.csv',\n",
       " './clean_data/2016/Break Camp week 5 Feedback - HK.csv',\n",
       " './clean_data/2016/Break Camp week 6 Feedback - NY.csv',\n",
       " './clean_data/2016/Break Camp week 4 Feedback - SG.csv',\n",
       " './clean_data/2016/Break Camp week 5 Feedback - SV.csv',\n",
       " './clean_data/2016/Break Camp week 4 Feedback - SF.csv']"
      ]
     },
     "execution_count": 200,
     "metadata": {},
     "output_type": "execute_result"
    }
   ],
   "source": [
    "target_path= \"./clean_data/2016/Break*\"\n",
    "\n",
    "FILENAMES = glob.glob(target_path, recursive = True)\n",
    "FILENAMES[0:7]"
   ]
  },
  {
   "cell_type": "code",
   "execution_count": 201,
   "metadata": {},
   "outputs": [],
   "source": [
    "def rename(filename):\n",
    "    components = filename.split(\" \") #splits on the space\n",
    "    os.rename(filename, \"./clean_data/2016/Week_{}_Feedback_-_{}\".format(components[3], components[6]))\n"
   ]
  },
  {
   "cell_type": "code",
   "execution_count": 202,
   "metadata": {},
   "outputs": [],
   "source": [
    "# # Run Loop on all filenames in the folder. \n",
    "for file in FILENAMES:\n",
    "    rename(file)"
   ]
  },
  {
   "cell_type": "code",
   "execution_count": 123,
   "metadata": {},
   "outputs": [
    {
     "data": {
      "text/plain": [
       "['./clean_data/2016/Week_5_Feedback_-_SF.csv.csv',\n",
       " './clean_data/2016/Week_6_Feedback_-_LA.csv.csv',\n",
       " './clean_data/2016/Week_2_Feedback_-_SV.csv.csv',\n",
       " './clean_data/2016/Week_7_Feedback_-_SF.csv.csv',\n",
       " './clean_data/2016/Week_2_Feedback_-_NY.csv.csv',\n",
       " './clean_data/2016/Week_5_Feedback_-_HK.csv.csv',\n",
       " './clean_data/2016/Week_5_Feedback_-_SG.csv.csv']"
      ]
     },
     "execution_count": 123,
     "metadata": {},
     "output_type": "execute_result"
    }
   ],
   "source": [
    "# Grab new filenames with GLOB \n",
    "# Note that we need a new filepath after preforming the loop\n",
    "target_path= \"./clean_data/2016/Week*\"\n",
    "\n",
    "\n",
    "FILENAMES = glob.glob(target_path, recursive = True)\n",
    "# Return first 8 entries in FILENAMES LIST\n",
    "FILENAMES[0:7]"
   ]
  },
  {
   "cell_type": "code",
   "execution_count": 165,
   "metadata": {},
   "outputs": [
    {
     "data": {
      "text/plain": [
       "39"
      ]
     },
     "execution_count": 165,
     "metadata": {},
     "output_type": "execute_result"
    }
   ],
   "source": [
    "# How many files have the fist row as unamed?\n",
    "len(FILENAMES)"
   ]
  },
  {
   "cell_type": "code",
   "execution_count": 124,
   "metadata": {
    "scrolled": true
   },
   "outputs": [
    {
     "data": {
      "text/html": [
       "<div>\n",
       "<style scoped>\n",
       "    .dataframe tbody tr th:only-of-type {\n",
       "        vertical-align: middle;\n",
       "    }\n",
       "\n",
       "    .dataframe tbody tr th {\n",
       "        vertical-align: top;\n",
       "    }\n",
       "\n",
       "    .dataframe thead th {\n",
       "        text-align: right;\n",
       "    }\n",
       "</style>\n",
       "<table border=\"1\" class=\"dataframe\">\n",
       "  <thead>\n",
       "    <tr style=\"text-align: right;\">\n",
       "      <th></th>\n",
       "      <th>Unnamed: 0</th>\n",
       "      <th>What Marrit Badge?</th>\n",
       "      <th>How would you rate your satisfaction with the Break Camp this week?</th>\n",
       "      <th>How well is the program paced?</th>\n",
       "    </tr>\n",
       "  </thead>\n",
       "  <tbody>\n",
       "    <tr>\n",
       "      <th>0</th>\n",
       "      <td>0</td>\n",
       "      <td>Rowing</td>\n",
       "      <td>3</td>\n",
       "      <td>3</td>\n",
       "    </tr>\n",
       "    <tr>\n",
       "      <th>1</th>\n",
       "      <td>1</td>\n",
       "      <td>Rowing</td>\n",
       "      <td>4</td>\n",
       "      <td>3</td>\n",
       "    </tr>\n",
       "    <tr>\n",
       "      <th>2</th>\n",
       "      <td>2</td>\n",
       "      <td>Rowing</td>\n",
       "      <td>4</td>\n",
       "      <td>3</td>\n",
       "    </tr>\n",
       "    <tr>\n",
       "      <th>3</th>\n",
       "      <td>3</td>\n",
       "      <td>Rowing</td>\n",
       "      <td>4</td>\n",
       "      <td>4</td>\n",
       "    </tr>\n",
       "    <tr>\n",
       "      <th>4</th>\n",
       "      <td>4</td>\n",
       "      <td>Rowing</td>\n",
       "      <td>3</td>\n",
       "      <td>3</td>\n",
       "    </tr>\n",
       "  </tbody>\n",
       "</table>\n",
       "</div>"
      ],
      "text/plain": [
       "   Unnamed: 0 What Marrit Badge?  \\\n",
       "0           0             Rowing   \n",
       "1           1             Rowing   \n",
       "2           2             Rowing   \n",
       "3           3             Rowing   \n",
       "4           4             Rowing   \n",
       "\n",
       "   How would you rate your satisfaction with the Break Camp this week?  \\\n",
       "0                                                  3                     \n",
       "1                                                  4                     \n",
       "2                                                  4                     \n",
       "3                                                  4                     \n",
       "4                                                  3                     \n",
       "\n",
       "   How well is the program paced?  \n",
       "0                               3  \n",
       "1                               3  \n",
       "2                               3  \n",
       "3                               4  \n",
       "4                               3  "
      ]
     },
     "execution_count": 124,
     "metadata": {},
     "output_type": "execute_result"
    }
   ],
   "source": [
    "DF1 = pd.read_csv(FILENAMES[0],  sep='\\t')\n",
    "DF1.head()"
   ]
  },
  {
   "cell_type": "markdown",
   "metadata": {},
   "source": [
    "# Find unique headers"
   ]
  },
  {
   "cell_type": "code",
   "execution_count": 125,
   "metadata": {},
   "outputs": [],
   "source": [
    "# Create list\n",
    "headers=[]\n",
    "def find_headers(filename):\n",
    "    dataframe= pd.read_csv(filename, sep='\\t')\n",
    "    listA = list(dataframe)\n",
    "    for value in listA:\n",
    "            headers.append(value)       \n",
    "    \n",
    "def find_unique(list, new_list):\n",
    "    for x in list:\n",
    "        if x not in new_list:\n",
    "            new_list.append(x)"
   ]
  },
  {
   "cell_type": "code",
   "execution_count": null,
   "metadata": {},
   "outputs": [],
   "source": [
    "'Unnamed: 0' 'Unnamed: 0.1'"
   ]
  },
  {
   "cell_type": "code",
   "execution_count": 172,
   "metadata": {},
   "outputs": [
    {
     "data": {
      "text/plain": [
       "39"
      ]
     },
     "execution_count": 172,
     "metadata": {},
     "output_type": "execute_result"
    }
   ],
   "source": [
    "count = 0\n",
    "\n",
    "for x in headers:\n",
    "    if x == 'Unnamed: 0':#or 'Unnamed: 0.1':\n",
    "        count += 1\n",
    "    \n",
    "count"
   ]
  },
  {
   "cell_type": "code",
   "execution_count": 126,
   "metadata": {},
   "outputs": [
    {
     "data": {
      "text/plain": [
       "['Unnamed: 0',\n",
       " 'What Marrit Badge?',\n",
       " 'How would you rate your satisfaction with the Break Camp this week?',\n",
       " 'How well is the program paced?',\n",
       " 'Timestamp',\n",
       " 'How well are the tutorials paced?',\n",
       " 'Unnamed: 0.1']"
      ]
     },
     "execution_count": 126,
     "metadata": {},
     "output_type": "execute_result"
    }
   ],
   "source": [
    "# Run find headers through a loop with all files\n",
    "for file in FILENAMES:\n",
    "    find_headers(file)\n",
    "\n",
    "unique_headers = []\n",
    "find_unique(headers, unique_headers)\n",
    "    # apply unique to that list.\n",
    "unique_headers\n",
    "#display u_headers\n"
   ]
  },
  {
   "cell_type": "code",
   "execution_count": 129,
   "metadata": {},
   "outputs": [],
   "source": [
    "head_map = {\n",
    "    'Unnamed: 0': 'no_name',\n",
    "    'What Marrit Badge?':'merit badge',\n",
    "    'How would you rate your satisfaction with the Break Camp this week?:':'rateing',\n",
    "    'How well is the program paced?': \"pace\",\n",
    "    'Timestamp': \"Timestamp\",\n",
    "    'How well are the tutorials paced?':\"pace\",\n",
    "    'Unnamed: 0.1':'no_name'\n",
    "}"
   ]
  },
  {
   "cell_type": "code",
   "execution_count": 130,
   "metadata": {},
   "outputs": [
    {
     "data": {
      "text/plain": [
       "{'Unnamed: 0': 'no_name',\n",
       " 'What Marrit Badge?': 'merit badge',\n",
       " 'How would you rate your satisfaction with the Break Camp this week?:': 'rateing',\n",
       " 'How well is the program paced?': 'pace',\n",
       " 'Timestamp': 'Timestamp',\n",
       " 'How well are the tutorials paced?': 'pace',\n",
       " 'Unnamed: 0.1': 'no_name'}"
      ]
     },
     "execution_count": 130,
     "metadata": {},
     "output_type": "execute_result"
    }
   ],
   "source": [
    "head_map"
   ]
  },
  {
   "cell_type": "code",
   "execution_count": 158,
   "metadata": {},
   "outputs": [],
   "source": [
    "badges = []\n",
    "\n",
    "def all_badges(filename):\n",
    "    track_n = pd.read_csv(filename,sep='\\t')\n",
    "    try:\n",
    "        badges.append(track_n['What Marrit Badge?'].values)\n",
    "    except:\n",
    "        pass\n",
    "    \n",
    "def sublist_extract(list_of_list, new_list):\n",
    "    for sublist in list_of_list:\n",
    "        for item in sublist:\n",
    "            new_list.append(item)  "
   ]
  },
  {
   "cell_type": "code",
   "execution_count": 160,
   "metadata": {},
   "outputs": [
    {
     "data": {
      "text/plain": [
       "['Rowing', 'Astrnomy', 'Intro Rowing', 'Computer Programing', 'Average:']"
      ]
     },
     "execution_count": 160,
     "metadata": {},
     "output_type": "execute_result"
    }
   ],
   "source": [
    "for file in FILENAMES:\n",
    "    all_badges(file)\n",
    "\n",
    "flat_badges = []\n",
    "unique_badges = []\n",
    "sublist_extract(badges,flat_badges)\n",
    "flat_badges \n",
    "\n",
    "find_unique(flat_badges, unique_badges)\n",
    "unique_badges"
   ]
  },
  {
   "cell_type": "code",
   "execution_count": 161,
   "metadata": {},
   "outputs": [],
   "source": [
    "badge_map = {\n",
    "    'Rowing': 'rowing', \n",
    "    'Astrnomy':'astronomy', \n",
    "    'Intro Rowing': 'rowing', \n",
    "    'Computer Programing':'computer programing', \n",
    "    'Average:':'Average:'\n",
    "}"
   ]
  },
  {
   "cell_type": "code",
   "execution_count": 218,
   "metadata": {},
   "outputs": [],
   "source": [
    "def scrubba_dub_dubb(filename):\n",
    "    # Open a file as a data frame (.pd.read_csv())\n",
    "    DF = pd.read_csv(filename, sep='\\t')\n",
    "    \n",
    "#   Rename the headers. (.rename()))\n",
    "    DF.rename(columns=head_map, inplace=True)\n",
    "    \n",
    "#   Drop the index column (pd.drop())\n",
    "    DF = DF.drop('no_name', 1)\n",
    "    \n",
    "#   Standardize the Badge columns(ex. change \"games\" to \"sports\") (.map())\n",
    "    DF['merit badge']= DF['merit badge'].map(badge_map)\n",
    "    \n",
    "    # Take the week and location from the filename and apply it to each instance in new fields.\n",
    "    fileparts = filename.split(\"_\")\n",
    "    DF[\"week_num\"] = fileparts[2]\n",
    "    DF[\"location\"] = fileparts[5].split(\".\")[0]\n",
    "    \n",
    "    # save to a .csv file overwrites existing file\n",
    "    DF.to_csv(filename)\n",
    "    return DF"
   ]
  },
  {
   "cell_type": "code",
   "execution_count": 219,
   "metadata": {},
   "outputs": [],
   "source": [
    "#     fileparts = FILENAMES[index].split(\"_\")\n",
    "#     week_num, location = int(fileparts[1]), fileparts[2].split(\"-\")[1][:-4]\n",
    "# #     Declare new \n",
    "#     df[\"Location\"] =  location\n",
    "#     df[\"Week\"] = week_num"
   ]
  },
  {
   "cell_type": "code",
   "execution_count": 220,
   "metadata": {},
   "outputs": [
    {
     "data": {
      "text/html": [
       "<div>\n",
       "<style scoped>\n",
       "    .dataframe tbody tr th:only-of-type {\n",
       "        vertical-align: middle;\n",
       "    }\n",
       "\n",
       "    .dataframe tbody tr th {\n",
       "        vertical-align: top;\n",
       "    }\n",
       "\n",
       "    .dataframe thead th {\n",
       "        text-align: right;\n",
       "    }\n",
       "</style>\n",
       "<table border=\"1\" class=\"dataframe\">\n",
       "  <thead>\n",
       "    <tr style=\"text-align: right;\">\n",
       "      <th></th>\n",
       "      <th>merit badge</th>\n",
       "      <th>Timestamp</th>\n",
       "      <th>How would you rate your satisfaction with the Break Camp this week?</th>\n",
       "      <th>pace</th>\n",
       "      <th>week_num</th>\n",
       "      <th>location</th>\n",
       "    </tr>\n",
       "  </thead>\n",
       "  <tbody>\n",
       "    <tr>\n",
       "      <th>0</th>\n",
       "      <td>astronomy</td>\n",
       "      <td>6/24/2016 7:03:34</td>\n",
       "      <td>3</td>\n",
       "      <td>5</td>\n",
       "      <td>1</td>\n",
       "      <td>NY</td>\n",
       "    </tr>\n",
       "    <tr>\n",
       "      <th>1</th>\n",
       "      <td>astronomy</td>\n",
       "      <td>6/24/2016 7:10:22</td>\n",
       "      <td>3</td>\n",
       "      <td>3</td>\n",
       "      <td>1</td>\n",
       "      <td>NY</td>\n",
       "    </tr>\n",
       "    <tr>\n",
       "      <th>2</th>\n",
       "      <td>rowing</td>\n",
       "      <td>6/24/2016 7:03:41</td>\n",
       "      <td>3</td>\n",
       "      <td>3</td>\n",
       "      <td>1</td>\n",
       "      <td>NY</td>\n",
       "    </tr>\n",
       "    <tr>\n",
       "      <th>3</th>\n",
       "      <td>rowing</td>\n",
       "      <td>6/24/2016 7:04:59</td>\n",
       "      <td>4</td>\n",
       "      <td>3</td>\n",
       "      <td>1</td>\n",
       "      <td>NY</td>\n",
       "    </tr>\n",
       "    <tr>\n",
       "      <th>4</th>\n",
       "      <td>rowing</td>\n",
       "      <td>6/24/2016 7:07:02</td>\n",
       "      <td>4</td>\n",
       "      <td>4</td>\n",
       "      <td>1</td>\n",
       "      <td>NY</td>\n",
       "    </tr>\n",
       "  </tbody>\n",
       "</table>\n",
       "</div>"
      ],
      "text/plain": [
       "  merit badge          Timestamp  \\\n",
       "0   astronomy  6/24/2016 7:03:34   \n",
       "1   astronomy  6/24/2016 7:10:22   \n",
       "2      rowing  6/24/2016 7:03:41   \n",
       "3      rowing  6/24/2016 7:04:59   \n",
       "4      rowing  6/24/2016 7:07:02   \n",
       "\n",
       "   How would you rate your satisfaction with the Break Camp this week?  pace  \\\n",
       "0                                                  3                       5   \n",
       "1                                                  3                       3   \n",
       "2                                                  3                       3   \n",
       "3                                                  4                       3   \n",
       "4                                                  4                       4   \n",
       "\n",
       "  week_num location  \n",
       "0        1       NY  \n",
       "1        1       NY  \n",
       "2        1       NY  \n",
       "3        1       NY  \n",
       "4        1       NY  "
      ]
     },
     "execution_count": 220,
     "metadata": {},
     "output_type": "execute_result"
    }
   ],
   "source": [
    "tester5= \"./clean_data/TEST/Week_1_Feedback_-_NY.csv\"\n",
    "DF = scrubba_dub_dubb(tester5)\n",
    "DF.head()"
   ]
  },
  {
   "cell_type": "code",
   "execution_count": 217,
   "metadata": {},
   "outputs": [
    {
     "data": {
      "text/plain": [
       "'NY'"
      ]
     },
     "execution_count": 217,
     "metadata": {},
     "output_type": "execute_result"
    }
   ],
   "source": [
    "fileparts = tester5.split(\"_\")\n",
    "fileparts[5].split(\".\")[0]"
   ]
  },
  {
   "cell_type": "code",
   "execution_count": null,
   "metadata": {},
   "outputs": [],
   "source": []
  },
  {
   "cell_type": "code",
   "execution_count": null,
   "metadata": {},
   "outputs": [],
   "source": []
  }
 ],
 "metadata": {
  "kernelspec": {
   "display_name": "Python 3",
   "language": "python",
   "name": "python3"
  },
  "language_info": {
   "codemirror_mode": {
    "name": "ipython",
    "version": 3
   },
   "file_extension": ".py",
   "mimetype": "text/x-python",
   "name": "python",
   "nbconvert_exporter": "python",
   "pygments_lexer": "ipython3",
   "version": "3.7.1"
  }
 },
 "nbformat": 4,
 "nbformat_minor": 2
}
