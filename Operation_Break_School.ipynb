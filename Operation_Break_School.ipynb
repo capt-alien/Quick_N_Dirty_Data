{
 "cells": [
  {
   "cell_type": "code",
   "execution_count": 3,
   "metadata": {},
   "outputs": [],
   "source": [
    "import glob, os\n",
    "import pandas as pd"
   ]
  },
  {
   "cell_type": "code",
   "execution_count": 48,
   "metadata": {},
   "outputs": [
    {
     "name": "stdout",
     "output_type": "stream",
     "text": [
      "Operation_Break_School.ipynb       \u001b[1m\u001b[36mnew_data\u001b[m\u001b[m/\r\n",
      "README.md                          \u001b[1m\u001b[36mold_data\u001b[m\u001b[m/\r\n",
      "data_cleaning_tutorial_code.ipynb  \u001b[1m\u001b[36msurveys\u001b[m\u001b[m/\r\n"
     ]
    }
   ],
   "source": [
    "ls"
   ]
  },
  {
   "cell_type": "code",
   "execution_count": 22,
   "metadata": {},
   "outputs": [],
   "source": [
    "#open 2017 data:\n",
    "\n",
    "\"./old_data/SA_Feedback_Surveys_RAW/2017/\"\n",
    "\n",
    "df2017 = pd.read_csv(\"./old_data/SA_Feedback_Surveys_RAW/2017/Student Feedback Surveys-Superview.csv\")\n"
   ]
  },
  {
   "cell_type": "code",
   "execution_count": 26,
   "metadata": {},
   "outputs": [],
   "source": [
    "\n",
    "df2017 =df2017.drop('ID', 1)\n"
   ]
  },
  {
   "cell_type": "code",
   "execution_count": 33,
   "metadata": {
    "scrolled": true
   },
   "outputs": [
    {
     "data": {
      "text/html": [
       "<div>\n",
       "<style scoped>\n",
       "    .dataframe tbody tr th:only-of-type {\n",
       "        vertical-align: middle;\n",
       "    }\n",
       "\n",
       "    .dataframe tbody tr th {\n",
       "        vertical-align: top;\n",
       "    }\n",
       "\n",
       "    .dataframe thead th {\n",
       "        text-align: right;\n",
       "    }\n",
       "</style>\n",
       "<table border=\"1\" class=\"dataframe\">\n",
       "  <thead>\n",
       "    <tr style=\"text-align: right;\">\n",
       "      <th></th>\n",
       "      <th>Location</th>\n",
       "      <th>Merrit Badge</th>\n",
       "      <th>week</th>\n",
       "      <th>Rating (Num)</th>\n",
       "      <th>Schedule Pacing</th>\n",
       "    </tr>\n",
       "  </thead>\n",
       "  <tbody>\n",
       "    <tr>\n",
       "      <th>0</th>\n",
       "      <td>San Francisco</td>\n",
       "      <td>Apps, Explorer</td>\n",
       "      <td>Week 1</td>\n",
       "      <td>3</td>\n",
       "      <td>Just right</td>\n",
       "    </tr>\n",
       "    <tr>\n",
       "      <th>1</th>\n",
       "      <td>Los Angeles</td>\n",
       "      <td>Apps</td>\n",
       "      <td>Week 1</td>\n",
       "      <td>4</td>\n",
       "      <td>A little too fast</td>\n",
       "    </tr>\n",
       "    <tr>\n",
       "      <th>2</th>\n",
       "      <td>San Francisco</td>\n",
       "      <td>Games</td>\n",
       "      <td>Week 1</td>\n",
       "      <td>4</td>\n",
       "      <td>Way too slow</td>\n",
       "    </tr>\n",
       "    <tr>\n",
       "      <th>3</th>\n",
       "      <td>NaN</td>\n",
       "      <td>NaN</td>\n",
       "      <td>Week 2</td>\n",
       "      <td>4</td>\n",
       "      <td>A little too fast</td>\n",
       "    </tr>\n",
       "    <tr>\n",
       "      <th>4</th>\n",
       "      <td>New York City</td>\n",
       "      <td>Apps, Explorer</td>\n",
       "      <td>Week 1</td>\n",
       "      <td>4</td>\n",
       "      <td>Just right</td>\n",
       "    </tr>\n",
       "  </tbody>\n",
       "</table>\n",
       "</div>"
      ],
      "text/plain": [
       "        Location    Merrit Badge    week Rating (Num)    Schedule Pacing\n",
       "0  San Francisco  Apps, Explorer  Week 1            3         Just right\n",
       "1    Los Angeles            Apps  Week 1            4  A little too fast\n",
       "2  San Francisco           Games  Week 1            4       Way too slow\n",
       "3            NaN             NaN  Week 2            4  A little too fast\n",
       "4  New York City  Apps, Explorer  Week 1            4         Just right"
      ]
     },
     "execution_count": 33,
     "metadata": {},
     "output_type": "execute_result"
    }
   ],
   "source": [
    "# change track to merit badge\n",
    "df2017.head()\n",
    "\n",
    "#change column names:\n",
    "mapper_2017 = {\n",
    "    'Location': 'Location',\n",
    "    'Track': 'Merrit Badge',\n",
    "    'Week': 'week',\n",
    "    'Rating (Num)':'Rating (Num)',\n",
    "    'Schedule Pacing':'Schedule Pacing'\n",
    "}\n",
    "\n",
    "df2017.rename(columns=mapper_2017, inplace=True)\n",
    "df2017.head()"
   ]
  },
  {
   "cell_type": "code",
   "execution_count": 38,
   "metadata": {},
   "outputs": [
    {
     "data": {
      "text/plain": [
       "Location                 Los Angeles\n",
       "Merrit Badge                    Apps\n",
       "week                          Week 1\n",
       "Rating (Num)                       4\n",
       "Schedule Pacing    A little too fast\n",
       "Name: 1, dtype: object"
      ]
     },
     "execution_count": 38,
     "metadata": {},
     "output_type": "execute_result"
    }
   ],
   "source": [
    "df2017.iloc[1]"
   ]
  },
  {
   "cell_type": "code",
   "execution_count": 39,
   "metadata": {},
   "outputs": [
    {
     "data": {
      "text/plain": [
       "array(['Apps, Explorer', 'Apps', 'Games', nan, 'VR', 'Games, Explorer'],\n",
       "      dtype=object)"
      ]
     },
     "execution_count": 39,
     "metadata": {},
     "output_type": "execute_result"
    }
   ],
   "source": [
    "# Map merrit badges to something else\n",
    "df2017[\"Merrit Badge\"].unique()"
   ]
  },
  {
   "cell_type": "code",
   "execution_count": 354,
   "metadata": {},
   "outputs": [],
   "source": [
    "MB_map= {\n",
    "    'Apps, Explorer': 'Rowing, Explorer', \n",
    "    'Apps':'rowing',\n",
    "    'Games': 'Astrnomy',\n",
    "    'VR': 'Computer Programing', \n",
    "    'Games, Explorer': 'Astrnomy, Explorer'\n",
    "}\n",
    "# df2017[\"Merrit Badge\"]= df2017[\"Merrit Badge\"].map(MB_map)\n",
    "# df2017[\"Merrit Badge\"].unique()"
   ]
  },
  {
   "cell_type": "code",
   "execution_count": 46,
   "metadata": {},
   "outputs": [],
   "source": [
    "# Write it to .csv\n",
    "\n",
    "df2017.to_csv('new_data/2017/Camp feedback form 2017' , sep='\\t')"
   ]
  },
  {
   "cell_type": "code",
   "execution_count": 76,
   "metadata": {},
   "outputs": [
    {
     "data": {
      "text/html": [
       "<div>\n",
       "<style scoped>\n",
       "    .dataframe tbody tr th:only-of-type {\n",
       "        vertical-align: middle;\n",
       "    }\n",
       "\n",
       "    .dataframe tbody tr th {\n",
       "        vertical-align: top;\n",
       "    }\n",
       "\n",
       "    .dataframe thead th {\n",
       "        text-align: right;\n",
       "    }\n",
       "</style>\n",
       "<table border=\"1\" class=\"dataframe\">\n",
       "  <thead>\n",
       "    <tr style=\"text-align: right;\">\n",
       "      <th></th>\n",
       "      <th>#</th>\n",
       "      <th>How likely is it that you would recommend the Make School Summer Academy to a friend?</th>\n",
       "      <th>location</th>\n",
       "      <th>track</th>\n",
       "      <th>Start Date (UTC)</th>\n",
       "      <th>Submit Date (UTC)</th>\n",
       "      <th>Network ID</th>\n",
       "    </tr>\n",
       "  </thead>\n",
       "  <tbody>\n",
       "    <tr>\n",
       "      <th>0</th>\n",
       "      <td>00b836bda84e6bdbe780af97e249e59f</td>\n",
       "      <td>10</td>\n",
       "      <td>New York</td>\n",
       "      <td>summerApps</td>\n",
       "      <td>9/7/16 1:03</td>\n",
       "      <td>9/7/16 1:04</td>\n",
       "      <td>3212b7a834</td>\n",
       "    </tr>\n",
       "    <tr>\n",
       "      <th>1</th>\n",
       "      <td>39dde6dc0e1e375845d756fc7e39fc5f</td>\n",
       "      <td>10</td>\n",
       "      <td>San Francisco</td>\n",
       "      <td>summerIntro</td>\n",
       "      <td>9/7/16 1:03</td>\n",
       "      <td>9/7/16 1:04</td>\n",
       "      <td>f4954355aa</td>\n",
       "    </tr>\n",
       "    <tr>\n",
       "      <th>2</th>\n",
       "      <td>5e56b9de91670b308cb98dd2848b8739</td>\n",
       "      <td>10</td>\n",
       "      <td>New York</td>\n",
       "      <td>summerIntro</td>\n",
       "      <td>9/7/16 1:03</td>\n",
       "      <td>9/7/16 1:05</td>\n",
       "      <td>3d69ca289b</td>\n",
       "    </tr>\n",
       "    <tr>\n",
       "      <th>3</th>\n",
       "      <td>641081d05785b47a0f17448625da0d49</td>\n",
       "      <td>9</td>\n",
       "      <td>Sunnyvale</td>\n",
       "      <td>summerApps (4-week)</td>\n",
       "      <td>9/7/16 1:04</td>\n",
       "      <td>9/7/16 1:06</td>\n",
       "      <td>261608f95d</td>\n",
       "    </tr>\n",
       "    <tr>\n",
       "      <th>4</th>\n",
       "      <td>c29bdd4f5678d78b450f4494e0f53c8c</td>\n",
       "      <td>3</td>\n",
       "      <td>San Francisco</td>\n",
       "      <td>summerIntro</td>\n",
       "      <td>9/7/16 1:04</td>\n",
       "      <td>9/7/16 1:11</td>\n",
       "      <td>d6672ddf6f</td>\n",
       "    </tr>\n",
       "  </tbody>\n",
       "</table>\n",
       "</div>"
      ],
      "text/plain": [
       "                                  #  \\\n",
       "0  00b836bda84e6bdbe780af97e249e59f   \n",
       "1  39dde6dc0e1e375845d756fc7e39fc5f   \n",
       "2  5e56b9de91670b308cb98dd2848b8739   \n",
       "3  641081d05785b47a0f17448625da0d49   \n",
       "4  c29bdd4f5678d78b450f4494e0f53c8c   \n",
       "\n",
       "   How likely is it that you would recommend the Make School Summer Academy to a friend?  \\\n",
       "0                                                 10                                       \n",
       "1                                                 10                                       \n",
       "2                                                 10                                       \n",
       "3                                                  9                                       \n",
       "4                                                  3                                       \n",
       "\n",
       "        location                track Start Date (UTC) Submit Date (UTC)  \\\n",
       "0       New York           summerApps      9/7/16 1:03       9/7/16 1:04   \n",
       "1  San Francisco          summerIntro      9/7/16 1:03       9/7/16 1:04   \n",
       "2       New York          summerIntro      9/7/16 1:03       9/7/16 1:05   \n",
       "3      Sunnyvale  summerApps (4-week)      9/7/16 1:04       9/7/16 1:06   \n",
       "4  San Francisco          summerIntro      9/7/16 1:04       9/7/16 1:11   \n",
       "\n",
       "   Network ID  \n",
       "0  3212b7a834  \n",
       "1  f4954355aa  \n",
       "2  3d69ca289b  \n",
       "3  261608f95d  \n",
       "4  d6672ddf6f  "
      ]
     },
     "execution_count": 76,
     "metadata": {},
     "output_type": "execute_result"
    }
   ],
   "source": [
    "#Do the same thing for 2016 week 8\n",
    "\n",
    "df2016 = pd.read_csv(\"./old_data/SA_Feedback_Surveys_RAW/2016/Week 8 Feedback (2016, incomplete) - results.csv\")\n",
    "df2016.head()\n"
   ]
  },
  {
   "cell_type": "code",
   "execution_count": 77,
   "metadata": {},
   "outputs": [],
   "source": [
    "#Drop # and NEtwork ID\n",
    "df2016 = df2016.drop('Network ID', 1)\n",
    "df2016 = df2016.drop('#', 1)\n"
   ]
  },
  {
   "cell_type": "code",
   "execution_count": 78,
   "metadata": {},
   "outputs": [
    {
     "data": {
      "text/plain": [
       "['How likely is it that you would recommend the Make School Summer Academy to a friend?',\n",
       " 'location',\n",
       " 'track',\n",
       " 'Start Date (UTC)',\n",
       " 'Submit Date (UTC)']"
      ]
     },
     "execution_count": 78,
     "metadata": {},
     "output_type": "execute_result"
    }
   ],
   "source": [
    "list(df2016)"
   ]
  },
  {
   "cell_type": "code",
   "execution_count": 79,
   "metadata": {},
   "outputs": [
    {
     "data": {
      "text/html": [
       "<div>\n",
       "<style scoped>\n",
       "    .dataframe tbody tr th:only-of-type {\n",
       "        vertical-align: middle;\n",
       "    }\n",
       "\n",
       "    .dataframe tbody tr th {\n",
       "        vertical-align: top;\n",
       "    }\n",
       "\n",
       "    .dataframe thead th {\n",
       "        text-align: right;\n",
       "    }\n",
       "</style>\n",
       "<table border=\"1\" class=\"dataframe\">\n",
       "  <thead>\n",
       "    <tr style=\"text-align: right;\">\n",
       "      <th></th>\n",
       "      <th>Would you Recomend us?</th>\n",
       "      <th>location</th>\n",
       "      <th>Merrit Badge</th>\n",
       "      <th>Start</th>\n",
       "      <th>submit</th>\n",
       "    </tr>\n",
       "  </thead>\n",
       "  <tbody>\n",
       "    <tr>\n",
       "      <th>0</th>\n",
       "      <td>10</td>\n",
       "      <td>New York</td>\n",
       "      <td>summerApps</td>\n",
       "      <td>9/7/16 1:03</td>\n",
       "      <td>9/7/16 1:04</td>\n",
       "    </tr>\n",
       "    <tr>\n",
       "      <th>1</th>\n",
       "      <td>10</td>\n",
       "      <td>San Francisco</td>\n",
       "      <td>summerIntro</td>\n",
       "      <td>9/7/16 1:03</td>\n",
       "      <td>9/7/16 1:04</td>\n",
       "    </tr>\n",
       "    <tr>\n",
       "      <th>2</th>\n",
       "      <td>10</td>\n",
       "      <td>New York</td>\n",
       "      <td>summerIntro</td>\n",
       "      <td>9/7/16 1:03</td>\n",
       "      <td>9/7/16 1:05</td>\n",
       "    </tr>\n",
       "    <tr>\n",
       "      <th>3</th>\n",
       "      <td>9</td>\n",
       "      <td>Sunnyvale</td>\n",
       "      <td>summerApps (4-week)</td>\n",
       "      <td>9/7/16 1:04</td>\n",
       "      <td>9/7/16 1:06</td>\n",
       "    </tr>\n",
       "    <tr>\n",
       "      <th>4</th>\n",
       "      <td>3</td>\n",
       "      <td>San Francisco</td>\n",
       "      <td>summerIntro</td>\n",
       "      <td>9/7/16 1:04</td>\n",
       "      <td>9/7/16 1:11</td>\n",
       "    </tr>\n",
       "  </tbody>\n",
       "</table>\n",
       "</div>"
      ],
      "text/plain": [
       "   Would you Recomend us?       location         Merrit Badge        Start  \\\n",
       "0                      10       New York           summerApps  9/7/16 1:03   \n",
       "1                      10  San Francisco          summerIntro  9/7/16 1:03   \n",
       "2                      10       New York          summerIntro  9/7/16 1:03   \n",
       "3                       9      Sunnyvale  summerApps (4-week)  9/7/16 1:04   \n",
       "4                       3  San Francisco          summerIntro  9/7/16 1:04   \n",
       "\n",
       "        submit  \n",
       "0  9/7/16 1:04  \n",
       "1  9/7/16 1:04  \n",
       "2  9/7/16 1:05  \n",
       "3  9/7/16 1:06  \n",
       "4  9/7/16 1:11  "
      ]
     },
     "execution_count": 79,
     "metadata": {},
     "output_type": "execute_result"
    }
   ],
   "source": [
    "\n",
    "\n",
    "#change column names:\n",
    "mapper_2016 = {\n",
    "'How likely is it that you would recommend the Make School Summer Academy to a friend?':\"Would you Recomend us?\",\n",
    " 'location':'location',\n",
    " 'track':'Merrit Badge',\n",
    " 'Start Date (UTC)':'Start',\n",
    " 'Submit Date (UTC)':'submit'\n",
    "}\n",
    "\n",
    "df2016.rename(columns=mapper_2016, inplace=True)\n",
    "df2016.head()"
   ]
  },
  {
   "cell_type": "code",
   "execution_count": 80,
   "metadata": {},
   "outputs": [
    {
     "data": {
      "text/html": [
       "<div>\n",
       "<style scoped>\n",
       "    .dataframe tbody tr th:only-of-type {\n",
       "        vertical-align: middle;\n",
       "    }\n",
       "\n",
       "    .dataframe tbody tr th {\n",
       "        vertical-align: top;\n",
       "    }\n",
       "\n",
       "    .dataframe thead th {\n",
       "        text-align: right;\n",
       "    }\n",
       "</style>\n",
       "<table border=\"1\" class=\"dataframe\">\n",
       "  <thead>\n",
       "    <tr style=\"text-align: right;\">\n",
       "      <th></th>\n",
       "      <th>Would you Recomend us?</th>\n",
       "      <th>location</th>\n",
       "      <th>Merrit Badge</th>\n",
       "      <th>submit</th>\n",
       "    </tr>\n",
       "  </thead>\n",
       "  <tbody>\n",
       "    <tr>\n",
       "      <th>0</th>\n",
       "      <td>10</td>\n",
       "      <td>New York</td>\n",
       "      <td>summerApps</td>\n",
       "      <td>9/7/16 1:04</td>\n",
       "    </tr>\n",
       "    <tr>\n",
       "      <th>1</th>\n",
       "      <td>10</td>\n",
       "      <td>San Francisco</td>\n",
       "      <td>summerIntro</td>\n",
       "      <td>9/7/16 1:04</td>\n",
       "    </tr>\n",
       "    <tr>\n",
       "      <th>2</th>\n",
       "      <td>10</td>\n",
       "      <td>New York</td>\n",
       "      <td>summerIntro</td>\n",
       "      <td>9/7/16 1:05</td>\n",
       "    </tr>\n",
       "    <tr>\n",
       "      <th>3</th>\n",
       "      <td>9</td>\n",
       "      <td>Sunnyvale</td>\n",
       "      <td>summerApps (4-week)</td>\n",
       "      <td>9/7/16 1:06</td>\n",
       "    </tr>\n",
       "    <tr>\n",
       "      <th>4</th>\n",
       "      <td>3</td>\n",
       "      <td>San Francisco</td>\n",
       "      <td>summerIntro</td>\n",
       "      <td>9/7/16 1:11</td>\n",
       "    </tr>\n",
       "  </tbody>\n",
       "</table>\n",
       "</div>"
      ],
      "text/plain": [
       "   Would you Recomend us?       location         Merrit Badge       submit\n",
       "0                      10       New York           summerApps  9/7/16 1:04\n",
       "1                      10  San Francisco          summerIntro  9/7/16 1:04\n",
       "2                      10       New York          summerIntro  9/7/16 1:05\n",
       "3                       9      Sunnyvale  summerApps (4-week)  9/7/16 1:06\n",
       "4                       3  San Francisco          summerIntro  9/7/16 1:11"
      ]
     },
     "execution_count": 80,
     "metadata": {},
     "output_type": "execute_result"
    }
   ],
   "source": [
    "df2016 = df2016.drop('Start', 1)\n",
    "df2016.head()"
   ]
  },
  {
   "cell_type": "code",
   "execution_count": 81,
   "metadata": {},
   "outputs": [
    {
     "data": {
      "text/plain": [
       "array(['summerApps', 'summerIntro', 'summerApps (4-week)', 'summerGames',\n",
       "       'summerVR', 'summerGames (4-week)'], dtype=object)"
      ]
     },
     "execution_count": 81,
     "metadata": {},
     "output_type": "execute_result"
    }
   ],
   "source": [
    "df2016['Merrit Badge'].unique()"
   ]
  },
  {
   "cell_type": "code",
   "execution_count": 82,
   "metadata": {},
   "outputs": [
    {
     "data": {
      "text/plain": [
       "array(['Rowing', 'Astronomy', 'cannoeing', 'Games', 'Comuter Programing'],\n",
       "      dtype=object)"
      ]
     },
     "execution_count": 82,
     "metadata": {},
     "output_type": "execute_result"
    }
   ],
   "source": [
    "Merrit_map_16 = {\n",
    "    'summerApps': 'Rowing', \n",
    "    'summerIntro': 'Astronomy', \n",
    "    'summerApps (4-week)':\"cannoeing\",\n",
    "    'summerGames': \"Games\",\n",
    "       'summerVR': \"Comuter Programing\", \n",
    "    'summerGames (4-week)': \"Games\"\n",
    "}\n",
    "\n",
    "df2016['Merrit Badge'] = df2016['Merrit Badge'].map(Merrit_map_16)\n",
    "df2016['Merrit Badge'].unique()"
   ]
  },
  {
   "cell_type": "code",
   "execution_count": 83,
   "metadata": {},
   "outputs": [],
   "source": [
    "df2016.to_csv('new_data/2016/Camp feedback week 8.csv' , sep='\\t')"
   ]
  },
  {
   "cell_type": "code",
   "execution_count": null,
   "metadata": {},
   "outputs": [],
   "source": [
    "# Take out spaces in filename (Put them back later)"
   ]
  },
  {
   "cell_type": "markdown",
   "metadata": {},
   "source": [
    "# Come up with scripts to run on all files to change contents"
   ]
  },
  {
   "cell_type": "code",
   "execution_count": null,
   "metadata": {},
   "outputs": [],
   "source": [
    "# Take care of the white spaces in original data"
   ]
  },
  {
   "cell_type": "code",
   "execution_count": 192,
   "metadata": {},
   "outputs": [],
   "source": [
    "target_path= \"./old_data/fb/2016/*\""
   ]
  },
  {
   "cell_type": "code",
   "execution_count": 193,
   "metadata": {},
   "outputs": [
    {
     "data": {
      "text/plain": [
       "['./old_data/fb/2016/Break_Camp_week_4_Feedback_-_NY.csv',\n",
       " './old_data/fb/2016/Break_Camp_week_7_Feedback_-_SV.csv',\n",
       " './old_data/fb/2016/Break_Camp_week_6_Feedback_-_SG.csv',\n",
       " './old_data/fb/2016/Break_Camp_week_6_Feedback_-_SF.csv',\n",
       " './old_data/fb/2016/Break_Camp_week_5_Feedback_-_LA.csv',\n",
       " './old_data/fb/2016/Break_Camp_week_3_Feedback_-_SG.csv',\n",
       " './old_data/fb/2016/Break_Camp_week_2_Feedback_-_SV.csv']"
      ]
     },
     "execution_count": 193,
     "metadata": {},
     "output_type": "execute_result"
    }
   ],
   "source": [
    "FILENAMES = glob.glob(target_path, recursive = True)\n",
    "FILENAMES[0:7]"
   ]
  },
  {
   "cell_type": "code",
   "execution_count": 194,
   "metadata": {},
   "outputs": [],
   "source": [
    "# def rename(filename):\n",
    "#     components = file.split(\" \") #splits on the space\n",
    "#     os.rename(file, \"./old_data/fb/2016/Break_Camp_week_{}_Feedback_-_{}.csv\".format(components[2], components[5]))\n",
    "#     return filename"
   ]
  },
  {
   "cell_type": "code",
   "execution_count": 195,
   "metadata": {},
   "outputs": [
    {
     "ename": "IndexError",
     "evalue": "list index out of range",
     "output_type": "error",
     "traceback": [
      "\u001b[0;31m---------------------------------------------------------------------------\u001b[0m",
      "\u001b[0;31mIndexError\u001b[0m                                Traceback (most recent call last)",
      "\u001b[0;32m<ipython-input-195-2050d369a5b4>\u001b[0m in \u001b[0;36m<module>\u001b[0;34m\u001b[0m\n\u001b[1;32m      3\u001b[0m     \u001b[0;31m# grab important data components from each filename\u001b[0m\u001b[0;34m\u001b[0m\u001b[0;34m\u001b[0m\u001b[0;34m\u001b[0m\u001b[0m\n\u001b[1;32m      4\u001b[0m     \u001b[0mcomponents\u001b[0m \u001b[0;34m=\u001b[0m \u001b[0mfile\u001b[0m\u001b[0;34m.\u001b[0m\u001b[0msplit\u001b[0m\u001b[0;34m(\u001b[0m\u001b[0;34m\" \"\u001b[0m\u001b[0;34m)\u001b[0m \u001b[0;31m#splits on the space\u001b[0m\u001b[0;34m\u001b[0m\u001b[0;34m\u001b[0m\u001b[0m\n\u001b[0;32m----> 5\u001b[0;31m     \u001b[0mweek_num\u001b[0m\u001b[0;34m,\u001b[0m \u001b[0mloc\u001b[0m \u001b[0;34m=\u001b[0m \u001b[0mcomponents\u001b[0m\u001b[0;34m[\u001b[0m\u001b[0;36m2\u001b[0m\u001b[0;34m]\u001b[0m\u001b[0;34m,\u001b[0m \u001b[0mcomponents\u001b[0m\u001b[0;34m[\u001b[0m\u001b[0;36m5\u001b[0m\u001b[0;34m]\u001b[0m\u001b[0;34m.\u001b[0m\u001b[0msplit\u001b[0m\u001b[0;34m(\u001b[0m\u001b[0;34m\".\"\u001b[0m\u001b[0;34m)\u001b[0m\u001b[0;34m[\u001b[0m\u001b[0;36m0\u001b[0m\u001b[0;34m]\u001b[0m\u001b[0;34m\u001b[0m\u001b[0;34m\u001b[0m\u001b[0m\n\u001b[0m\u001b[1;32m      6\u001b[0m     \u001b[0;31m#Assign new name based on components\u001b[0m\u001b[0;34m\u001b[0m\u001b[0;34m\u001b[0m\u001b[0;34m\u001b[0m\u001b[0m\n\u001b[1;32m      7\u001b[0m     \u001b[0mos\u001b[0m\u001b[0;34m.\u001b[0m\u001b[0mrename\u001b[0m\u001b[0;34m(\u001b[0m\u001b[0mfile\u001b[0m\u001b[0;34m,\u001b[0m \u001b[0;34m\"./old_data/fb/2016/Break_Camp_week_{}_Feedback_-_{}.csv\"\u001b[0m\u001b[0;34m.\u001b[0m\u001b[0mformat\u001b[0m\u001b[0;34m(\u001b[0m\u001b[0mweek_num\u001b[0m\u001b[0;34m,\u001b[0m \u001b[0mloc\u001b[0m\u001b[0;34m)\u001b[0m\u001b[0;34m)\u001b[0m\u001b[0;34m\u001b[0m\u001b[0;34m\u001b[0m\u001b[0m\n",
      "\u001b[0;31mIndexError\u001b[0m: list index out of range"
     ]
    }
   ],
   "source": [
    "# tries to rename files but accidently delets them\n",
    "for file in FILENAMES:\n",
    "    # grab important data components from each filename\n",
    "    components = file.split(\" \") #splits on the space\n",
    "    week_num, loc = components[2], components[5].split(\".\")[0]\n",
    "    #Assign new name based on components\n",
    "    os.rename(file, \"./old_data/fb/2016/Break_Camp_week_{}_Feedback_-_{}.csv\".format(week_num, loc))\n",
    "    \n",
    "    \n",
    "    \n",
    "    "
   ]
  },
  {
   "cell_type": "code",
   "execution_count": 196,
   "metadata": {},
   "outputs": [
    {
     "data": {
      "text/plain": [
       "['./old_data/fb/2016/Break_Camp_week_4_Feedback_-_NY.csv',\n",
       " './old_data/fb/2016/Break_Camp_week_7_Feedback_-_SV.csv',\n",
       " './old_data/fb/2016/Break_Camp_week_6_Feedback_-_SG.csv',\n",
       " './old_data/fb/2016/Break_Camp_week_6_Feedback_-_SF.csv',\n",
       " './old_data/fb/2016/Break_Camp_week_5_Feedback_-_LA.csv',\n",
       " './old_data/fb/2016/Break_Camp_week_3_Feedback_-_SG.csv',\n",
       " './old_data/fb/2016/Break_Camp_week_2_Feedback_-_SV.csv']"
      ]
     },
     "execution_count": 196,
     "metadata": {},
     "output_type": "execute_result"
    }
   ],
   "source": [
    "FILENAMES[0:7]"
   ]
  },
  {
   "cell_type": "code",
   "execution_count": 207,
   "metadata": {
    "collapsed": true
   },
   "outputs": [
    {
     "data": {
      "text/html": [
       "<div>\n",
       "<style scoped>\n",
       "    .dataframe tbody tr th:only-of-type {\n",
       "        vertical-align: middle;\n",
       "    }\n",
       "\n",
       "    .dataframe tbody tr th {\n",
       "        vertical-align: top;\n",
       "    }\n",
       "\n",
       "    .dataframe thead th {\n",
       "        text-align: right;\n",
       "    }\n",
       "</style>\n",
       "<table border=\"1\" class=\"dataframe\">\n",
       "  <thead>\n",
       "    <tr style=\"text-align: right;\">\n",
       "      <th></th>\n",
       "      <th>Timestamp</th>\n",
       "      <th>What track are you in?</th>\n",
       "      <th>How would you rate your overall satisfaction with the Summer Academy this week?</th>\n",
       "      <th>How well is the schedule paced?</th>\n",
       "    </tr>\n",
       "  </thead>\n",
       "  <tbody>\n",
       "    <tr>\n",
       "      <th>0</th>\n",
       "      <td>8/5/2016 13:37:43</td>\n",
       "      <td>Apps</td>\n",
       "      <td>3</td>\n",
       "      <td>3</td>\n",
       "    </tr>\n",
       "    <tr>\n",
       "      <th>1</th>\n",
       "      <td>8/5/2016 13:37:50</td>\n",
       "      <td>Apps</td>\n",
       "      <td>5</td>\n",
       "      <td>3</td>\n",
       "    </tr>\n",
       "    <tr>\n",
       "      <th>2</th>\n",
       "      <td>8/5/2016 13:39:25</td>\n",
       "      <td>Apps</td>\n",
       "      <td>3</td>\n",
       "      <td>3</td>\n",
       "    </tr>\n",
       "    <tr>\n",
       "      <th>3</th>\n",
       "      <td>8/5/2016 13:39:27</td>\n",
       "      <td>Apps</td>\n",
       "      <td>4</td>\n",
       "      <td>3</td>\n",
       "    </tr>\n",
       "    <tr>\n",
       "      <th>4</th>\n",
       "      <td>8/5/2016 13:41:05</td>\n",
       "      <td>Apps</td>\n",
       "      <td>4</td>\n",
       "      <td>3</td>\n",
       "    </tr>\n",
       "  </tbody>\n",
       "</table>\n",
       "</div>"
      ],
      "text/plain": [
       "           Timestamp What track are you in?  \\\n",
       "0  8/5/2016 13:37:43                   Apps   \n",
       "1  8/5/2016 13:37:50                   Apps   \n",
       "2  8/5/2016 13:39:25                   Apps   \n",
       "3  8/5/2016 13:39:27                   Apps   \n",
       "4  8/5/2016 13:41:05                   Apps   \n",
       "\n",
       "   How would you rate your overall satisfaction with the Summer Academy this week?  \\\n",
       "0                                                  3                                 \n",
       "1                                                  5                                 \n",
       "2                                                  3                                 \n",
       "3                                                  4                                 \n",
       "4                                                  4                                 \n",
       "\n",
       "   How well is the schedule paced?  \n",
       "0                                3  \n",
       "1                                3  \n",
       "2                                3  \n",
       "3                                3  \n",
       "4                                3  "
      ]
     },
     "execution_count": 207,
     "metadata": {},
     "output_type": "execute_result"
    }
   ],
   "source": [
    "# relative_directory_path = \"./old_data/SA_Feedback_Surveys_RAW/2016/\"\n",
    "# target_file = \"Anon_Week_1_Feedback_-_LA.csv \"\n",
    "\n",
    "df2016WK1 = pd.read_csv(FILENAMES[1])\n",
    "df2016WK1.head()"
   ]
  },
  {
   "cell_type": "markdown",
   "metadata": {},
   "source": [
    "# Marker 1-----------------------------"
   ]
  },
  {
   "cell_type": "code",
   "execution_count": 220,
   "metadata": {},
   "outputs": [],
   "source": [
    "# Create list\n",
    "headers=[]\n"
   ]
  },
  {
   "cell_type": "code",
   "execution_count": 221,
   "metadata": {},
   "outputs": [],
   "source": [
    "def find_headers(filename):\n",
    "    test= pd.read_csv(FILENAMES[1])\n",
    "    headers.append(list(test))"
   ]
  },
  {
   "cell_type": "code",
   "execution_count": null,
   "metadata": {},
   "outputs": [],
   "source": [
    "for file in FILENAMES:\n",
    "    find_headers(file)"
   ]
  },
  {
   "cell_type": "code",
   "execution_count": 229,
   "metadata": {},
   "outputs": [
    {
     "name": "stdout",
     "output_type": "stream",
     "text": [
      "[['Timestamp', 'What track are you in?', 'How would you rate your overall satisfaction with the Summer Academy this week?', 'How well is the schedule paced?']]\n"
     ]
    }
   ],
   "source": [
    "# fin\n",
    "\n",
    "u_headers = []\n",
    "for x in headers:\n",
    "    if x not in u_headers:\n",
    "        u_headers.append(x)\n",
    "print(u_headers)"
   ]
  },
  {
   "cell_type": "markdown",
   "metadata": {},
   "source": [
    "# find all unique values for track"
   ]
  },
  {
   "cell_type": "code",
   "execution_count": 250,
   "metadata": {},
   "outputs": [
    {
     "data": {
      "text/html": [
       "<div>\n",
       "<style scoped>\n",
       "    .dataframe tbody tr th:only-of-type {\n",
       "        vertical-align: middle;\n",
       "    }\n",
       "\n",
       "    .dataframe tbody tr th {\n",
       "        vertical-align: top;\n",
       "    }\n",
       "\n",
       "    .dataframe thead th {\n",
       "        text-align: right;\n",
       "    }\n",
       "</style>\n",
       "<table border=\"1\" class=\"dataframe\">\n",
       "  <thead>\n",
       "    <tr style=\"text-align: right;\">\n",
       "      <th></th>\n",
       "      <th>Timestamp</th>\n",
       "      <th>How would you rate your overall satisfaction with the Summer Academy this week?</th>\n",
       "      <th>How well is the schedule paced?</th>\n",
       "    </tr>\n",
       "  </thead>\n",
       "  <tbody>\n",
       "    <tr>\n",
       "      <th>0</th>\n",
       "      <td>7/29/2016 19:18:44</td>\n",
       "      <td>4</td>\n",
       "      <td>3</td>\n",
       "    </tr>\n",
       "    <tr>\n",
       "      <th>1</th>\n",
       "      <td>7/29/2016 23:12:48</td>\n",
       "      <td>5</td>\n",
       "      <td>5</td>\n",
       "    </tr>\n",
       "    <tr>\n",
       "      <th>2</th>\n",
       "      <td>7/30/2016 5:46:01</td>\n",
       "      <td>5</td>\n",
       "      <td>3</td>\n",
       "    </tr>\n",
       "    <tr>\n",
       "      <th>3</th>\n",
       "      <td>7/30/2016 7:02:47</td>\n",
       "      <td>4</td>\n",
       "      <td>3</td>\n",
       "    </tr>\n",
       "    <tr>\n",
       "      <th>4</th>\n",
       "      <td>7/31/2016 7:40:14</td>\n",
       "      <td>3</td>\n",
       "      <td>5</td>\n",
       "    </tr>\n",
       "    <tr>\n",
       "      <th>5</th>\n",
       "      <td>7/31/2016 8:34:29</td>\n",
       "      <td>5</td>\n",
       "      <td>3</td>\n",
       "    </tr>\n",
       "  </tbody>\n",
       "</table>\n",
       "</div>"
      ],
      "text/plain": [
       "            Timestamp  \\\n",
       "0  7/29/2016 19:18:44   \n",
       "1  7/29/2016 23:12:48   \n",
       "2   7/30/2016 5:46:01   \n",
       "3   7/30/2016 7:02:47   \n",
       "4   7/31/2016 7:40:14   \n",
       "5   7/31/2016 8:34:29   \n",
       "\n",
       "   How would you rate your overall satisfaction with the Summer Academy this week?  \\\n",
       "0                                                  4                                 \n",
       "1                                                  5                                 \n",
       "2                                                  5                                 \n",
       "3                                                  4                                 \n",
       "4                                                  3                                 \n",
       "5                                                  5                                 \n",
       "\n",
       "   How well is the schedule paced?  \n",
       "0                                3  \n",
       "1                                5  \n",
       "2                                3  \n",
       "3                                3  \n",
       "4                                5  \n",
       "5                                3  "
      ]
     },
     "execution_count": 250,
     "metadata": {},
     "output_type": "execute_result"
    }
   ],
   "source": [
    "testA = pd.read_csv(FILENAMES[2])\n",
    "testA"
   ]
  },
  {
   "cell_type": "code",
   "execution_count": 333,
   "metadata": {},
   "outputs": [
    {
     "data": {
      "text/plain": [
       "0    Apps\n",
       "1    Apps\n",
       "2    Apps\n",
       "3    Apps\n",
       "4    Apps\n",
       "Name: What track are you in?, dtype: object"
      ]
     },
     "execution_count": 333,
     "metadata": {},
     "output_type": "execute_result"
    }
   ],
   "source": [
    "test = pd.read_csv(FILENAMES[1])\n",
    "test['What track are you in?'][0:5]"
   ]
  },
  {
   "cell_type": "code",
   "execution_count": 334,
   "metadata": {},
   "outputs": [],
   "source": [
    "track = []\n",
    "\n",
    "def find_unique_tracts(filename):\n",
    "    track_n = pd.read_csv(filename)\n",
    "    try:\n",
    "        track.append(track_n['What track are you in?'].values)\n",
    "    except:\n",
    "        pass"
   ]
  },
  {
   "cell_type": "code",
   "execution_count": 335,
   "metadata": {},
   "outputs": [],
   "source": [
    "for file in FILENAMES:\n",
    "    find_unique_tracts(file)"
   ]
  },
  {
   "cell_type": "code",
   "execution_count": 347,
   "metadata": {},
   "outputs": [
    {
     "data": {
      "text/plain": [
       "[['Apps',\n",
       "  'Apps',\n",
       "  'Apps',\n",
       "  'Apps',\n",
       "  'Games',\n",
       "  'Intro',\n",
       "  'Apps',\n",
       "  'Apps',\n",
       "  'Apps',\n",
       "  'Apps',\n",
       "  'Apps',\n",
       "  'Games',\n",
       "  'Apps',\n",
       "  'Games',\n",
       "  'Apps',\n",
       "  'Apps'],\n",
       " ['Apps',\n",
       "  'Apps',\n",
       "  'Apps',\n",
       "  'Apps',\n",
       "  'Apps',\n",
       "  'Apps',\n",
       "  'Apps',\n",
       "  'Apps',\n",
       "  'Apps',\n",
       "  'Apps',\n",
       "  'Apps',\n",
       "  'Apps',\n",
       "  'Apps',\n",
       "  'Apps',\n",
       "  'Apps',\n",
       "  'Apps',\n",
       "  'Apps',\n",
       "  'Apps',\n",
       "  'Apps',\n",
       "  'Apps',\n",
       "  'Apps',\n",
       "  'Apps',\n",
       "  'Apps',\n",
       "  'Apps',\n",
       "  'Games',\n",
       "  'Games',\n",
       "  'Games',\n",
       "  'Games',\n",
       "  'Games',\n",
       "  'Games',\n",
       "  'Games',\n",
       "  'Games',\n",
       "  'Games',\n",
       "  'Games',\n",
       "  'Games',\n",
       "  'Intro',\n",
       "  'Intro',\n",
       "  'Intro',\n",
       "  'Intro',\n",
       "  'Intro',\n",
       "  'Intro',\n",
       "  'Intro',\n",
       "  'Intro',\n",
       "  'Intro',\n",
       "  'Intro',\n",
       "  'Intro',\n",
       "  'Apps'],\n",
       " ['Apps',\n",
       "  'Apps',\n",
       "  'Apps',\n",
       "  'Apps',\n",
       "  'Apps',\n",
       "  'Apps',\n",
       "  'Apps',\n",
       "  'Apps',\n",
       "  'Apps',\n",
       "  'Apps',\n",
       "  'Apps',\n",
       "  'Games',\n",
       "  'Games',\n",
       "  'Games',\n",
       "  'Games',\n",
       "  'Games',\n",
       "  'Games',\n",
       "  'Intro',\n",
       "  'Intro',\n",
       "  'Intro',\n",
       "  'Intro',\n",
       "  'Intro',\n",
       "  'VR',\n",
       "  'VR',\n",
       "  'VR'],\n",
       " ['Games',\n",
       "  'Intro',\n",
       "  'Intro',\n",
       "  'Games',\n",
       "  'Intro',\n",
       "  'Games',\n",
       "  'Intro',\n",
       "  'Games',\n",
       "  'Games',\n",
       "  'Intro',\n",
       "  'Games',\n",
       "  'Games'],\n",
       " ['Apps',\n",
       "  'Apps',\n",
       "  'Apps',\n",
       "  'Apps',\n",
       "  'Apps',\n",
       "  'Apps',\n",
       "  'Apps',\n",
       "  'Apps',\n",
       "  'Apps',\n",
       "  'Games',\n",
       "  'Games',\n",
       "  'Games',\n",
       "  'Games',\n",
       "  'Intro',\n",
       "  'Apps',\n",
       "  'Apps',\n",
       "  'Apps',\n",
       "  'Apps',\n",
       "  'Apps',\n",
       "  'Apps',\n",
       "  'Apps',\n",
       "  'Apps',\n",
       "  'Apps',\n",
       "  'Apps',\n",
       "  'Apps',\n",
       "  'Apps',\n",
       "  'Apps',\n",
       "  'Apps',\n",
       "  'Apps',\n",
       "  'Apps',\n",
       "  'Games',\n",
       "  'Games',\n",
       "  'Games',\n",
       "  'Games',\n",
       "  'Games',\n",
       "  'Intro',\n",
       "  'Intro',\n",
       "  'Intro',\n",
       "  'Intro',\n",
       "  'Intro',\n",
       "  'Intro',\n",
       "  'Intro',\n",
       "  'Apps',\n",
       "  'Apps',\n",
       "  'Apps',\n",
       "  'Apps',\n",
       "  'Apps',\n",
       "  'Apps',\n",
       "  'Apps',\n",
       "  'Games',\n",
       "  'Games',\n",
       "  'Games',\n",
       "  'Games',\n",
       "  'Intro',\n",
       "  'Intro',\n",
       "  'Intro'],\n",
       " ['Games',\n",
       "  'Games',\n",
       "  'Apps',\n",
       "  'Intro',\n",
       "  'Intro',\n",
       "  'Intro',\n",
       "  'Intro',\n",
       "  'Games',\n",
       "  'Games',\n",
       "  'Games',\n",
       "  'Games',\n",
       "  'Games',\n",
       "  'Apps',\n",
       "  'Apps',\n",
       "  'Apps',\n",
       "  'Apps',\n",
       "  'Apps',\n",
       "  'Apps',\n",
       "  'Apps',\n",
       "  'Apps',\n",
       "  'Apps',\n",
       "  'Apps',\n",
       "  'Intro',\n",
       "  'Intro',\n",
       "  'Intro',\n",
       "  'Intro',\n",
       "  'Games',\n",
       "  'Games',\n",
       "  'Games',\n",
       "  'Apps',\n",
       "  'Apps',\n",
       "  'Apps',\n",
       "  'Apps',\n",
       "  'Apps',\n",
       "  'Apps',\n",
       "  'Apps',\n",
       "  'Apps',\n",
       "  'Apps',\n",
       "  'Apps'],\n",
       " ['Apps',\n",
       "  'Apps',\n",
       "  'Apps',\n",
       "  'Apps',\n",
       "  'Apps',\n",
       "  'Apps',\n",
       "  'Apps',\n",
       "  'Apps',\n",
       "  'Apps',\n",
       "  'Games',\n",
       "  'Games',\n",
       "  'Intro',\n",
       "  'Intro',\n",
       "  'Intro',\n",
       "  'Intro',\n",
       "  'Intro',\n",
       "  'Intro',\n",
       "  'VR',\n",
       "  'VR',\n",
       "  'VR',\n",
       "  'VR',\n",
       "  'Intro',\n",
       "  'Intro']]"
      ]
     },
     "execution_count": 347,
     "metadata": {},
     "output_type": "execute_result"
    }
   ],
   "source": [
    "b_track = []\n",
    "\n",
    "end = len(track)\n",
    "for n in range(end-1):\n",
    "    b_track.append(track[n].tolist())\n",
    "    \n",
    "b_track[0:7] "
   ]
  },
  {
   "cell_type": "code",
   "execution_count": 348,
   "metadata": {},
   "outputs": [],
   "source": [
    "c_track = []\n",
    "\n",
    "for sublist in b_track:\n",
    "    for item in sublist:\n",
    "        c_track.append(item)"
   ]
  },
  {
   "cell_type": "code",
   "execution_count": 350,
   "metadata": {},
   "outputs": [
    {
     "data": {
      "text/plain": [
       "['Apps', 'Apps', 'Apps', 'Apps', 'Games', 'Intro', 'Apps']"
      ]
     },
     "execution_count": 350,
     "metadata": {},
     "output_type": "execute_result"
    }
   ],
   "source": [
    "c_track[0:7]"
   ]
  },
  {
   "cell_type": "code",
   "execution_count": 351,
   "metadata": {},
   "outputs": [
    {
     "data": {
      "text/plain": [
       "['Apps', 'Games', 'Intro', 'VR', 'Average:']"
      ]
     },
     "execution_count": 351,
     "metadata": {},
     "output_type": "execute_result"
    }
   ],
   "source": [
    "u_track = []\n",
    "for x in c_track:\n",
    "    if x not in u_track:\n",
    "        u_track.append(x)\n",
    "    \n",
    "u_track"
   ]
  },
  {
   "cell_type": "code",
   "execution_count": null,
   "metadata": {},
   "outputs": [],
   "source": []
  },
  {
   "cell_type": "code",
   "execution_count": 230,
   "metadata": {},
   "outputs": [],
   "source": [
    "grand_map = {'Timestamp':'Timestamp', \n",
    "             'What track are you in?':\"What Marrit Badge?\", \n",
    "             'How would you rate your overall satisfaction with the Summer Academy this week?':'How would you rate your satisfaction with the Break Camp this week?',\n",
    "             'How well is the schedule paced?': 'How well is the program paced?'\n",
    "    \n",
    "}"
   ]
  },
  {
   "cell_type": "code",
   "execution_count": 356,
   "metadata": {},
   "outputs": [],
   "source": [
    "track_map= {\n",
    "    'Apps': 'Rowing', \n",
    "    'Games': 'Astrnomy', \n",
    "    'Intro': 'Intro Rowing', \n",
    "    'VR': 'Computer Programing', \n",
    "    'Average:': 'Average:'\n",
    "}"
   ]
  },
  {
   "cell_type": "code",
   "execution_count": 358,
   "metadata": {},
   "outputs": [
    {
     "data": {
      "text/plain": [
       "{'Apps': 'Rowing',\n",
       " 'Games': 'Astrnomy',\n",
       " 'Intro': 'Intro Rowing',\n",
       " 'VR': 'Computer Programing',\n",
       " 'Average:': 'Average:'}"
      ]
     },
     "execution_count": 358,
     "metadata": {},
     "output_type": "execute_result"
    }
   ],
   "source": [
    "track_map"
   ]
  },
  {
   "cell_type": "code",
   "execution_count": 371,
   "metadata": {},
   "outputs": [],
   "source": [
    "tester = FILENAMES[5]"
   ]
  },
  {
   "cell_type": "code",
   "execution_count": 372,
   "metadata": {},
   "outputs": [],
   "source": [
    "def grand_master(filename):\n",
    "    #open filename as a dataframe\n",
    "    df= pd.read_csv(filename)\n",
    "    # changes the header to grand map header\n",
    "    df.rename(columns=grand_map, inplace=True)\n",
    "    # if it has a track field apply track map\n",
    "    try:\n",
    "        df[\"What Marrit Badge?\"]= df[\"What Marrit Badge?\"].map(track_map)\n",
    "    except:\n",
    "        pass\n",
    "        # writes it to .csv in the new data\n",
    "    relitave_name=filename.split(\"2016/\")    \n",
    "    df.to_csv(\"new_data/2016/{}\".format(relitave_name[1]), sep='\\t')"
   ]
  },
  {
   "cell_type": "code",
   "execution_count": 373,
   "metadata": {},
   "outputs": [],
   "source": [
    "for file in FILENAMES:\n",
    "    grand_master(file)"
   ]
  },
  {
   "cell_type": "code",
   "execution_count": null,
   "metadata": {},
   "outputs": [],
   "source": []
  },
  {
   "cell_type": "code",
   "execution_count": null,
   "metadata": {},
   "outputs": [],
   "source": []
  },
  {
   "cell_type": "code",
   "execution_count": null,
   "metadata": {},
   "outputs": [],
   "source": []
  },
  {
   "cell_type": "code",
   "execution_count": null,
   "metadata": {},
   "outputs": [],
   "source": []
  }
 ],
 "metadata": {
  "kernelspec": {
   "display_name": "Python 3",
   "language": "python",
   "name": "python3"
  },
  "language_info": {
   "codemirror_mode": {
    "name": "ipython",
    "version": 3
   },
   "file_extension": ".py",
   "mimetype": "text/x-python",
   "name": "python",
   "nbconvert_exporter": "python",
   "pygments_lexer": "ipython3",
   "version": "3.7.1"
  }
 },
 "nbformat": 4,
 "nbformat_minor": 2
}
