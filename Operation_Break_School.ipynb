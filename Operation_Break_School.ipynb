{
 "cells": [
  {
   "cell_type": "code",
   "execution_count": 20,
   "metadata": {},
   "outputs": [],
   "source": [
    "import glob, os\n",
    "import pandas as pd"
   ]
  },
  {
   "cell_type": "code",
   "execution_count": 48,
   "metadata": {},
   "outputs": [
    {
     "name": "stdout",
     "output_type": "stream",
     "text": [
      "Operation_Break_School.ipynb       \u001b[1m\u001b[36mnew_data\u001b[m\u001b[m/\r\n",
      "README.md                          \u001b[1m\u001b[36mold_data\u001b[m\u001b[m/\r\n",
      "data_cleaning_tutorial_code.ipynb  \u001b[1m\u001b[36msurveys\u001b[m\u001b[m/\r\n"
     ]
    }
   ],
   "source": [
    "ls"
   ]
  },
  {
   "cell_type": "code",
   "execution_count": 22,
   "metadata": {},
   "outputs": [],
   "source": [
    "#open 2017 data:\n",
    "\n",
    "\"./old_data/SA_Feedback_Surveys_RAW/2017/\"\n",
    "\n",
    "df2017 = pd.read_csv(\"./old_data/SA_Feedback_Surveys_RAW/2017/Student Feedback Surveys-Superview.csv\")\n"
   ]
  },
  {
   "cell_type": "code",
   "execution_count": 26,
   "metadata": {},
   "outputs": [],
   "source": [
    "\n",
    "df2017 =df2017.drop('ID', 1)\n"
   ]
  },
  {
   "cell_type": "code",
   "execution_count": 33,
   "metadata": {
    "scrolled": true
   },
   "outputs": [
    {
     "data": {
      "text/html": [
       "<div>\n",
       "<style scoped>\n",
       "    .dataframe tbody tr th:only-of-type {\n",
       "        vertical-align: middle;\n",
       "    }\n",
       "\n",
       "    .dataframe tbody tr th {\n",
       "        vertical-align: top;\n",
       "    }\n",
       "\n",
       "    .dataframe thead th {\n",
       "        text-align: right;\n",
       "    }\n",
       "</style>\n",
       "<table border=\"1\" class=\"dataframe\">\n",
       "  <thead>\n",
       "    <tr style=\"text-align: right;\">\n",
       "      <th></th>\n",
       "      <th>Location</th>\n",
       "      <th>Merrit Badge</th>\n",
       "      <th>week</th>\n",
       "      <th>Rating (Num)</th>\n",
       "      <th>Schedule Pacing</th>\n",
       "    </tr>\n",
       "  </thead>\n",
       "  <tbody>\n",
       "    <tr>\n",
       "      <th>0</th>\n",
       "      <td>San Francisco</td>\n",
       "      <td>Apps, Explorer</td>\n",
       "      <td>Week 1</td>\n",
       "      <td>3</td>\n",
       "      <td>Just right</td>\n",
       "    </tr>\n",
       "    <tr>\n",
       "      <th>1</th>\n",
       "      <td>Los Angeles</td>\n",
       "      <td>Apps</td>\n",
       "      <td>Week 1</td>\n",
       "      <td>4</td>\n",
       "      <td>A little too fast</td>\n",
       "    </tr>\n",
       "    <tr>\n",
       "      <th>2</th>\n",
       "      <td>San Francisco</td>\n",
       "      <td>Games</td>\n",
       "      <td>Week 1</td>\n",
       "      <td>4</td>\n",
       "      <td>Way too slow</td>\n",
       "    </tr>\n",
       "    <tr>\n",
       "      <th>3</th>\n",
       "      <td>NaN</td>\n",
       "      <td>NaN</td>\n",
       "      <td>Week 2</td>\n",
       "      <td>4</td>\n",
       "      <td>A little too fast</td>\n",
       "    </tr>\n",
       "    <tr>\n",
       "      <th>4</th>\n",
       "      <td>New York City</td>\n",
       "      <td>Apps, Explorer</td>\n",
       "      <td>Week 1</td>\n",
       "      <td>4</td>\n",
       "      <td>Just right</td>\n",
       "    </tr>\n",
       "  </tbody>\n",
       "</table>\n",
       "</div>"
      ],
      "text/plain": [
       "        Location    Merrit Badge    week Rating (Num)    Schedule Pacing\n",
       "0  San Francisco  Apps, Explorer  Week 1            3         Just right\n",
       "1    Los Angeles            Apps  Week 1            4  A little too fast\n",
       "2  San Francisco           Games  Week 1            4       Way too slow\n",
       "3            NaN             NaN  Week 2            4  A little too fast\n",
       "4  New York City  Apps, Explorer  Week 1            4         Just right"
      ]
     },
     "execution_count": 33,
     "metadata": {},
     "output_type": "execute_result"
    }
   ],
   "source": [
    "# change track to merit badge\n",
    "df2017.head()\n",
    "\n",
    "#change column names:\n",
    "mapper_2017 = {\n",
    "    'Location': 'Location',\n",
    "    'Track': 'Merrit Badge',\n",
    "    'Week': 'week',\n",
    "    'Rating (Num)':'Rating (Num)',\n",
    "    'Schedule Pacing':'Schedule Pacing'\n",
    "}\n",
    "\n",
    "df2017.rename(columns=mapper_2017, inplace=True)\n",
    "df2017.head()"
   ]
  },
  {
   "cell_type": "code",
   "execution_count": 38,
   "metadata": {},
   "outputs": [
    {
     "data": {
      "text/plain": [
       "Location                 Los Angeles\n",
       "Merrit Badge                    Apps\n",
       "week                          Week 1\n",
       "Rating (Num)                       4\n",
       "Schedule Pacing    A little too fast\n",
       "Name: 1, dtype: object"
      ]
     },
     "execution_count": 38,
     "metadata": {},
     "output_type": "execute_result"
    }
   ],
   "source": [
    "df2017.iloc[1]"
   ]
  },
  {
   "cell_type": "code",
   "execution_count": 39,
   "metadata": {},
   "outputs": [
    {
     "data": {
      "text/plain": [
       "array(['Apps, Explorer', 'Apps', 'Games', nan, 'VR', 'Games, Explorer'],\n",
       "      dtype=object)"
      ]
     },
     "execution_count": 39,
     "metadata": {},
     "output_type": "execute_result"
    }
   ],
   "source": [
    "# Map merrit badges to something else\n",
    "df2017[\"Merrit Badge\"].unique()"
   ]
  },
  {
   "cell_type": "code",
   "execution_count": 45,
   "metadata": {},
   "outputs": [
    {
     "data": {
      "text/plain": [
       "array(['Rowing, Explorer', 'rowing', 'Astrnomy', nan,\n",
       "       'Computer Programing', 'Astrnomy, Explorer'], dtype=object)"
      ]
     },
     "execution_count": 45,
     "metadata": {},
     "output_type": "execute_result"
    }
   ],
   "source": [
    "MB_map= {\n",
    "    'Apps, Explorer': 'Rowing, Explorer', \n",
    "    'Apps':'rowing',\n",
    "    'Games': 'Astrnomy',\n",
    "    'VR': 'Computer Programing', \n",
    "    'Games, Explorer': 'Astrnomy, Explorer'\n",
    "}\n",
    "df2017[\"Merrit Badge\"]= df2017[\"Merrit Badge\"].map(MB_map)\n",
    "df2017[\"Merrit Badge\"].unique()"
   ]
  },
  {
   "cell_type": "code",
   "execution_count": 46,
   "metadata": {},
   "outputs": [],
   "source": [
    "# Write it to .csv\n",
    "\n",
    "df2017.to_csv('new_data/2017/Camp feedback form 2017' , sep='\\t')"
   ]
  },
  {
   "cell_type": "code",
   "execution_count": 76,
   "metadata": {},
   "outputs": [
    {
     "data": {
      "text/html": [
       "<div>\n",
       "<style scoped>\n",
       "    .dataframe tbody tr th:only-of-type {\n",
       "        vertical-align: middle;\n",
       "    }\n",
       "\n",
       "    .dataframe tbody tr th {\n",
       "        vertical-align: top;\n",
       "    }\n",
       "\n",
       "    .dataframe thead th {\n",
       "        text-align: right;\n",
       "    }\n",
       "</style>\n",
       "<table border=\"1\" class=\"dataframe\">\n",
       "  <thead>\n",
       "    <tr style=\"text-align: right;\">\n",
       "      <th></th>\n",
       "      <th>#</th>\n",
       "      <th>How likely is it that you would recommend the Make School Summer Academy to a friend?</th>\n",
       "      <th>location</th>\n",
       "      <th>track</th>\n",
       "      <th>Start Date (UTC)</th>\n",
       "      <th>Submit Date (UTC)</th>\n",
       "      <th>Network ID</th>\n",
       "    </tr>\n",
       "  </thead>\n",
       "  <tbody>\n",
       "    <tr>\n",
       "      <th>0</th>\n",
       "      <td>00b836bda84e6bdbe780af97e249e59f</td>\n",
       "      <td>10</td>\n",
       "      <td>New York</td>\n",
       "      <td>summerApps</td>\n",
       "      <td>9/7/16 1:03</td>\n",
       "      <td>9/7/16 1:04</td>\n",
       "      <td>3212b7a834</td>\n",
       "    </tr>\n",
       "    <tr>\n",
       "      <th>1</th>\n",
       "      <td>39dde6dc0e1e375845d756fc7e39fc5f</td>\n",
       "      <td>10</td>\n",
       "      <td>San Francisco</td>\n",
       "      <td>summerIntro</td>\n",
       "      <td>9/7/16 1:03</td>\n",
       "      <td>9/7/16 1:04</td>\n",
       "      <td>f4954355aa</td>\n",
       "    </tr>\n",
       "    <tr>\n",
       "      <th>2</th>\n",
       "      <td>5e56b9de91670b308cb98dd2848b8739</td>\n",
       "      <td>10</td>\n",
       "      <td>New York</td>\n",
       "      <td>summerIntro</td>\n",
       "      <td>9/7/16 1:03</td>\n",
       "      <td>9/7/16 1:05</td>\n",
       "      <td>3d69ca289b</td>\n",
       "    </tr>\n",
       "    <tr>\n",
       "      <th>3</th>\n",
       "      <td>641081d05785b47a0f17448625da0d49</td>\n",
       "      <td>9</td>\n",
       "      <td>Sunnyvale</td>\n",
       "      <td>summerApps (4-week)</td>\n",
       "      <td>9/7/16 1:04</td>\n",
       "      <td>9/7/16 1:06</td>\n",
       "      <td>261608f95d</td>\n",
       "    </tr>\n",
       "    <tr>\n",
       "      <th>4</th>\n",
       "      <td>c29bdd4f5678d78b450f4494e0f53c8c</td>\n",
       "      <td>3</td>\n",
       "      <td>San Francisco</td>\n",
       "      <td>summerIntro</td>\n",
       "      <td>9/7/16 1:04</td>\n",
       "      <td>9/7/16 1:11</td>\n",
       "      <td>d6672ddf6f</td>\n",
       "    </tr>\n",
       "  </tbody>\n",
       "</table>\n",
       "</div>"
      ],
      "text/plain": [
       "                                  #  \\\n",
       "0  00b836bda84e6bdbe780af97e249e59f   \n",
       "1  39dde6dc0e1e375845d756fc7e39fc5f   \n",
       "2  5e56b9de91670b308cb98dd2848b8739   \n",
       "3  641081d05785b47a0f17448625da0d49   \n",
       "4  c29bdd4f5678d78b450f4494e0f53c8c   \n",
       "\n",
       "   How likely is it that you would recommend the Make School Summer Academy to a friend?  \\\n",
       "0                                                 10                                       \n",
       "1                                                 10                                       \n",
       "2                                                 10                                       \n",
       "3                                                  9                                       \n",
       "4                                                  3                                       \n",
       "\n",
       "        location                track Start Date (UTC) Submit Date (UTC)  \\\n",
       "0       New York           summerApps      9/7/16 1:03       9/7/16 1:04   \n",
       "1  San Francisco          summerIntro      9/7/16 1:03       9/7/16 1:04   \n",
       "2       New York          summerIntro      9/7/16 1:03       9/7/16 1:05   \n",
       "3      Sunnyvale  summerApps (4-week)      9/7/16 1:04       9/7/16 1:06   \n",
       "4  San Francisco          summerIntro      9/7/16 1:04       9/7/16 1:11   \n",
       "\n",
       "   Network ID  \n",
       "0  3212b7a834  \n",
       "1  f4954355aa  \n",
       "2  3d69ca289b  \n",
       "3  261608f95d  \n",
       "4  d6672ddf6f  "
      ]
     },
     "execution_count": 76,
     "metadata": {},
     "output_type": "execute_result"
    }
   ],
   "source": [
    "#Do the same thing for 2016 week 8\n",
    "\n",
    "df2016 = pd.read_csv(\"./old_data/SA_Feedback_Surveys_RAW/2016/Week 8 Feedback (2016, incomplete) - results.csv\")\n",
    "df2016.head()\n"
   ]
  },
  {
   "cell_type": "code",
   "execution_count": 77,
   "metadata": {},
   "outputs": [],
   "source": [
    "#Drop # and NEtwork ID\n",
    "df2016 = df2016.drop('Network ID', 1)\n",
    "df2016 = df2016.drop('#', 1)\n"
   ]
  },
  {
   "cell_type": "code",
   "execution_count": 78,
   "metadata": {},
   "outputs": [
    {
     "data": {
      "text/plain": [
       "['How likely is it that you would recommend the Make School Summer Academy to a friend?',\n",
       " 'location',\n",
       " 'track',\n",
       " 'Start Date (UTC)',\n",
       " 'Submit Date (UTC)']"
      ]
     },
     "execution_count": 78,
     "metadata": {},
     "output_type": "execute_result"
    }
   ],
   "source": [
    "list(df2016)"
   ]
  },
  {
   "cell_type": "code",
   "execution_count": 79,
   "metadata": {},
   "outputs": [
    {
     "data": {
      "text/html": [
       "<div>\n",
       "<style scoped>\n",
       "    .dataframe tbody tr th:only-of-type {\n",
       "        vertical-align: middle;\n",
       "    }\n",
       "\n",
       "    .dataframe tbody tr th {\n",
       "        vertical-align: top;\n",
       "    }\n",
       "\n",
       "    .dataframe thead th {\n",
       "        text-align: right;\n",
       "    }\n",
       "</style>\n",
       "<table border=\"1\" class=\"dataframe\">\n",
       "  <thead>\n",
       "    <tr style=\"text-align: right;\">\n",
       "      <th></th>\n",
       "      <th>Would you Recomend us?</th>\n",
       "      <th>location</th>\n",
       "      <th>Merrit Badge</th>\n",
       "      <th>Start</th>\n",
       "      <th>submit</th>\n",
       "    </tr>\n",
       "  </thead>\n",
       "  <tbody>\n",
       "    <tr>\n",
       "      <th>0</th>\n",
       "      <td>10</td>\n",
       "      <td>New York</td>\n",
       "      <td>summerApps</td>\n",
       "      <td>9/7/16 1:03</td>\n",
       "      <td>9/7/16 1:04</td>\n",
       "    </tr>\n",
       "    <tr>\n",
       "      <th>1</th>\n",
       "      <td>10</td>\n",
       "      <td>San Francisco</td>\n",
       "      <td>summerIntro</td>\n",
       "      <td>9/7/16 1:03</td>\n",
       "      <td>9/7/16 1:04</td>\n",
       "    </tr>\n",
       "    <tr>\n",
       "      <th>2</th>\n",
       "      <td>10</td>\n",
       "      <td>New York</td>\n",
       "      <td>summerIntro</td>\n",
       "      <td>9/7/16 1:03</td>\n",
       "      <td>9/7/16 1:05</td>\n",
       "    </tr>\n",
       "    <tr>\n",
       "      <th>3</th>\n",
       "      <td>9</td>\n",
       "      <td>Sunnyvale</td>\n",
       "      <td>summerApps (4-week)</td>\n",
       "      <td>9/7/16 1:04</td>\n",
       "      <td>9/7/16 1:06</td>\n",
       "    </tr>\n",
       "    <tr>\n",
       "      <th>4</th>\n",
       "      <td>3</td>\n",
       "      <td>San Francisco</td>\n",
       "      <td>summerIntro</td>\n",
       "      <td>9/7/16 1:04</td>\n",
       "      <td>9/7/16 1:11</td>\n",
       "    </tr>\n",
       "  </tbody>\n",
       "</table>\n",
       "</div>"
      ],
      "text/plain": [
       "   Would you Recomend us?       location         Merrit Badge        Start  \\\n",
       "0                      10       New York           summerApps  9/7/16 1:03   \n",
       "1                      10  San Francisco          summerIntro  9/7/16 1:03   \n",
       "2                      10       New York          summerIntro  9/7/16 1:03   \n",
       "3                       9      Sunnyvale  summerApps (4-week)  9/7/16 1:04   \n",
       "4                       3  San Francisco          summerIntro  9/7/16 1:04   \n",
       "\n",
       "        submit  \n",
       "0  9/7/16 1:04  \n",
       "1  9/7/16 1:04  \n",
       "2  9/7/16 1:05  \n",
       "3  9/7/16 1:06  \n",
       "4  9/7/16 1:11  "
      ]
     },
     "execution_count": 79,
     "metadata": {},
     "output_type": "execute_result"
    }
   ],
   "source": [
    "\n",
    "\n",
    "#change column names:\n",
    "mapper_2016 = {\n",
    "'How likely is it that you would recommend the Make School Summer Academy to a friend?':\"Would you Recomend us?\",\n",
    " 'location':'location',\n",
    " 'track':'Merrit Badge',\n",
    " 'Start Date (UTC)':'Start',\n",
    " 'Submit Date (UTC)':'submit'\n",
    "}\n",
    "\n",
    "df2016.rename(columns=mapper_2016, inplace=True)\n",
    "df2016.head()"
   ]
  },
  {
   "cell_type": "code",
   "execution_count": 80,
   "metadata": {},
   "outputs": [
    {
     "data": {
      "text/html": [
       "<div>\n",
       "<style scoped>\n",
       "    .dataframe tbody tr th:only-of-type {\n",
       "        vertical-align: middle;\n",
       "    }\n",
       "\n",
       "    .dataframe tbody tr th {\n",
       "        vertical-align: top;\n",
       "    }\n",
       "\n",
       "    .dataframe thead th {\n",
       "        text-align: right;\n",
       "    }\n",
       "</style>\n",
       "<table border=\"1\" class=\"dataframe\">\n",
       "  <thead>\n",
       "    <tr style=\"text-align: right;\">\n",
       "      <th></th>\n",
       "      <th>Would you Recomend us?</th>\n",
       "      <th>location</th>\n",
       "      <th>Merrit Badge</th>\n",
       "      <th>submit</th>\n",
       "    </tr>\n",
       "  </thead>\n",
       "  <tbody>\n",
       "    <tr>\n",
       "      <th>0</th>\n",
       "      <td>10</td>\n",
       "      <td>New York</td>\n",
       "      <td>summerApps</td>\n",
       "      <td>9/7/16 1:04</td>\n",
       "    </tr>\n",
       "    <tr>\n",
       "      <th>1</th>\n",
       "      <td>10</td>\n",
       "      <td>San Francisco</td>\n",
       "      <td>summerIntro</td>\n",
       "      <td>9/7/16 1:04</td>\n",
       "    </tr>\n",
       "    <tr>\n",
       "      <th>2</th>\n",
       "      <td>10</td>\n",
       "      <td>New York</td>\n",
       "      <td>summerIntro</td>\n",
       "      <td>9/7/16 1:05</td>\n",
       "    </tr>\n",
       "    <tr>\n",
       "      <th>3</th>\n",
       "      <td>9</td>\n",
       "      <td>Sunnyvale</td>\n",
       "      <td>summerApps (4-week)</td>\n",
       "      <td>9/7/16 1:06</td>\n",
       "    </tr>\n",
       "    <tr>\n",
       "      <th>4</th>\n",
       "      <td>3</td>\n",
       "      <td>San Francisco</td>\n",
       "      <td>summerIntro</td>\n",
       "      <td>9/7/16 1:11</td>\n",
       "    </tr>\n",
       "  </tbody>\n",
       "</table>\n",
       "</div>"
      ],
      "text/plain": [
       "   Would you Recomend us?       location         Merrit Badge       submit\n",
       "0                      10       New York           summerApps  9/7/16 1:04\n",
       "1                      10  San Francisco          summerIntro  9/7/16 1:04\n",
       "2                      10       New York          summerIntro  9/7/16 1:05\n",
       "3                       9      Sunnyvale  summerApps (4-week)  9/7/16 1:06\n",
       "4                       3  San Francisco          summerIntro  9/7/16 1:11"
      ]
     },
     "execution_count": 80,
     "metadata": {},
     "output_type": "execute_result"
    }
   ],
   "source": [
    "df2016 = df2016.drop('Start', 1)\n",
    "df2016.head()"
   ]
  },
  {
   "cell_type": "code",
   "execution_count": 81,
   "metadata": {},
   "outputs": [
    {
     "data": {
      "text/plain": [
       "array(['summerApps', 'summerIntro', 'summerApps (4-week)', 'summerGames',\n",
       "       'summerVR', 'summerGames (4-week)'], dtype=object)"
      ]
     },
     "execution_count": 81,
     "metadata": {},
     "output_type": "execute_result"
    }
   ],
   "source": [
    "df2016['Merrit Badge'].unique()"
   ]
  },
  {
   "cell_type": "code",
   "execution_count": null,
   "metadata": {},
   "outputs": [],
   "source": [
    "Merrit_map_16 = {\n",
    "    'summerApps': 'Rowing', \n",
    "    'summerIntro': 'Astronomy', \n",
    "    'summerApps (4-week)':\"cannoeing\",\n",
    "    'summerGames': \"Games\",\n",
    "       'summerVR': \"Comuter Programing\", \n",
    "    'summerGames (4-week)': \"Games\"\n",
    "}\n",
    "\n",
    "df2016['Merrit Badge'] = df2016['Merrit Badge'].map(Merrit_map_16)\n"
   ]
  }
 ],
 "metadata": {
  "kernelspec": {
   "display_name": "Python 3",
   "language": "python",
   "name": "python3"
  },
  "language_info": {
   "codemirror_mode": {
    "name": "ipython",
    "version": 3
   },
   "file_extension": ".py",
   "mimetype": "text/x-python",
   "name": "python",
   "nbconvert_exporter": "python",
   "pygments_lexer": "ipython3",
   "version": "3.7.1"
  }
 },
 "nbformat": 4,
 "nbformat_minor": 2
}
