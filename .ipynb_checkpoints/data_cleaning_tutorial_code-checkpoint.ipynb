{
 "cells": [
  {
   "cell_type": "code",
   "execution_count": 1,
   "metadata": {},
   "outputs": [],
   "source": [
    "import glob, os\n",
    "import pandas as pd"
   ]
  },
  {
   "cell_type": "code",
   "execution_count": 7,
   "metadata": {},
   "outputs": [
    {
     "data": {
      "text/html": [
       "<div>\n",
       "<style scoped>\n",
       "    .dataframe tbody tr th:only-of-type {\n",
       "        vertical-align: middle;\n",
       "    }\n",
       "\n",
       "    .dataframe tbody tr th {\n",
       "        vertical-align: top;\n",
       "    }\n",
       "\n",
       "    .dataframe thead th {\n",
       "        text-align: right;\n",
       "    }\n",
       "</style>\n",
       "<table border=\"1\" class=\"dataframe\">\n",
       "  <thead>\n",
       "    <tr style=\"text-align: right;\">\n",
       "      <th></th>\n",
       "      <th>What track are you in?</th>\n",
       "      <th>How would you rate your overall satisfaction with the Summer Academy this week?</th>\n",
       "      <th>How well is the schedule paced?</th>\n",
       "    </tr>\n",
       "    <tr>\n",
       "      <th>Timestamp</th>\n",
       "      <th></th>\n",
       "      <th></th>\n",
       "      <th></th>\n",
       "    </tr>\n",
       "  </thead>\n",
       "  <tbody>\n",
       "    <tr>\n",
       "      <th>7/1/2016 6:41:31</th>\n",
       "      <td>Apps</td>\n",
       "      <td>3</td>\n",
       "      <td>2</td>\n",
       "    </tr>\n",
       "    <tr>\n",
       "      <th>7/1/2016 9:27:32</th>\n",
       "      <td>Apps</td>\n",
       "      <td>3</td>\n",
       "      <td>4</td>\n",
       "    </tr>\n",
       "    <tr>\n",
       "      <th>7/1/2016 6:46:34</th>\n",
       "      <td>Games</td>\n",
       "      <td>3</td>\n",
       "      <td>5</td>\n",
       "    </tr>\n",
       "    <tr>\n",
       "      <th>7/1/2016 6:47:56</th>\n",
       "      <td>Games</td>\n",
       "      <td>3</td>\n",
       "      <td>3</td>\n",
       "    </tr>\n",
       "    <tr>\n",
       "      <th>7/1/2016 6:33:45</th>\n",
       "      <td>Apps</td>\n",
       "      <td>4</td>\n",
       "      <td>3</td>\n",
       "    </tr>\n",
       "  </tbody>\n",
       "</table>\n",
       "</div>"
      ],
      "text/plain": [
       "                 What track are you in?  \\\n",
       "Timestamp                                 \n",
       "7/1/2016 6:41:31                   Apps   \n",
       "7/1/2016 9:27:32                   Apps   \n",
       "7/1/2016 6:46:34                  Games   \n",
       "7/1/2016 6:47:56                  Games   \n",
       "7/1/2016 6:33:45                   Apps   \n",
       "\n",
       "                  How would you rate your overall satisfaction with the Summer Academy this week?  \\\n",
       "Timestamp                                                                                           \n",
       "7/1/2016 6:41:31                                                  3                                 \n",
       "7/1/2016 9:27:32                                                  3                                 \n",
       "7/1/2016 6:46:34                                                  3                                 \n",
       "7/1/2016 6:47:56                                                  3                                 \n",
       "7/1/2016 6:33:45                                                  4                                 \n",
       "\n",
       "                  How well is the schedule paced?  \n",
       "Timestamp                                          \n",
       "7/1/2016 6:41:31                                2  \n",
       "7/1/2016 9:27:32                                4  \n",
       "7/1/2016 6:46:34                                5  \n",
       "7/1/2016 6:47:56                                3  \n",
       "7/1/2016 6:33:45                                3  "
      ]
     },
     "execution_count": 7,
     "metadata": {},
     "output_type": "execute_result"
    }
   ],
   "source": [
    "#Open some of the files and see what the data looks like:\n",
    "df1=pd.read_csv(\"surveys/2016/Anon_Week_2_Feedback_-_NY.csv\", index_col=0)\n",
    "#use head to keep your notebook f\n",
    "df1.head()"
   ]
  },
  {
   "cell_type": "code",
   "execution_count": null,
   "metadata": {},
   "outputs": [],
   "source": []
  }
 ],
 "metadata": {
  "kernelspec": {
   "display_name": "Python 3",
   "language": "python",
   "name": "python3"
  },
  "language_info": {
   "codemirror_mode": {
    "name": "ipython",
    "version": 3
   },
   "file_extension": ".py",
   "mimetype": "text/x-python",
   "name": "python",
   "nbconvert_exporter": "python",
   "pygments_lexer": "ipython3",
   "version": "3.7.1"
  }
 },
 "nbformat": 4,
 "nbformat_minor": 2
}
